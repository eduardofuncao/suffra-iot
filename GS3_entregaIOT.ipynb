{
 "cells": [
  {
   "cell_type": "markdown",
   "metadata": {
    "id": "Z3ENmdOFn222"
   },
   "source": [
    "# Análise influência do clima no consumo de energia Residencial"
   ]
  },
  {
   "cell_type": "markdown",
   "metadata": {
    "id": "DpQ6RIizpYYy"
   },
   "source": [
    "## Preparação do Dataset"
   ]
  },
  {
   "cell_type": "markdown",
   "metadata": {
    "id": "FbuzyzSZn-4K"
   },
   "source": [
    "### Import das bibliotecas"
   ]
  },
  {
   "cell_type": "code",
   "execution_count": 6,
   "metadata": {
    "id": "jNZoSULuOHiX"
   },
   "outputs": [],
   "source": [
    "import pandas as pd\n",
    "import numpy as np\n",
    "import matplotlib.pyplot as plt\n",
    "import seaborn as sns\n",
    "\n",
    "from sklearn.preprocessing import StandardScaler\n",
    "from sklearn.decomposition import PCA\n",
    "from sklearn.model_selection import train_test_split\n",
    "from sklearn.metrics import mean_absolute_error, mean_squared_error, r2_score\n",
    "from sklearn.metrics import accuracy_score, confusion_matrix\n",
    "\n",
    "\n",
    "from sklearn.tree import DecisionTreeRegressor\n",
    "from sklearn.ensemble import RandomForestRegressor\n",
    "from sklearn.neural_network import MLPRegressor\n",
    "from sklearn.linear_model import SGDRegressor"
   ]
  },
  {
   "cell_type": "markdown",
   "metadata": {
    "id": "fwDfHOs1oOeH"
   },
   "source": [
    "### Uso do datase do Kaggle"
   ]
  },
  {
   "cell_type": "code",
   "execution_count": 7,
   "metadata": {
    "colab": {
     "base_uri": "https://localhost:8080/"
    },
    "id": "b25Sy6gdoKyZ",
    "outputId": "bb5aa47f-cf74-4d81-ef69-4e7bea7209ef"
   },
   "outputs": [
    {
     "name": "stderr",
     "output_type": "stream",
     "text": [
      "c:\\ads\\GS3\\iot\\.venv\\Lib\\site-packages\\tqdm\\auto.py:21: TqdmWarning: IProgress not found. Please update jupyter and ipywidgets. See https://ipywidgets.readthedocs.io/en/stable/user_install.html\n",
      "  from .autonotebook import tqdm as notebook_tqdm\n"
     ]
    },
    {
     "name": "stdout",
     "output_type": "stream",
     "text": [
      "Downloading from https://www.kaggle.com/api/v1/datasets/download/jeanmidev/smart-meters-in-london?dataset_version_number=21...\n"
     ]
    },
    {
     "name": "stderr",
     "output_type": "stream",
     "text": [
      "100%|██████████| 1.17G/1.17G [04:21<00:00, 4.78MB/s]"
     ]
    },
    {
     "name": "stdout",
     "output_type": "stream",
     "text": [
      "Extracting files...\n"
     ]
    },
    {
     "name": "stderr",
     "output_type": "stream",
     "text": [
      "\n"
     ]
    },
    {
     "name": "stdout",
     "output_type": "stream",
     "text": [
      "Path to dataset files: C:\\Users\\eduardofuncao\\.cache\\kagglehub\\datasets\\jeanmidev\\smart-meters-in-london\\versions\\21\n"
     ]
    }
   ],
   "source": [
    "import kagglehub\n",
    "\n",
    "# Download latest version\n",
    "path = kagglehub.dataset_download(\"jeanmidev/smart-meters-in-london\")\n",
    "\n",
    "print(\"Path to dataset files:\", path)"
   ]
  },
  {
   "cell_type": "markdown",
   "metadata": {
    "id": "QC3i8Xb6oYUj"
   },
   "source": [
    "### Carrega o Dataset"
   ]
  },
  {
   "cell_type": "code",
   "execution_count": 8,
   "metadata": {
    "id": "eIB7ptrQo1OM"
   },
   "outputs": [],
   "source": [
    "residencias_info = pd.read_csv(path + '/informations_households.csv')\n",
    "clima_diario = pd.read_csv(path + '/weather_daily_darksky.csv')\n",
    "energia_diario = pd.read_csv(path + '/daily_dataset.csv')\n",
    "feriados = pd.read_csv(path + '/uk_bank_holidays.csv')"
   ]
  },
  {
   "cell_type": "markdown",
   "metadata": {
    "id": "3w8m_hmhpSjz"
   },
   "source": [
    "## Tratamento dos dados"
   ]
  },
  {
   "cell_type": "code",
   "execution_count": 9,
   "metadata": {
    "colab": {
     "base_uri": "https://localhost:8080/",
     "height": 224
    },
    "id": "fEkDC65HoSBP",
    "outputId": "53670828-1603-4322-fc27-ef1dedccfff5"
   },
   "outputs": [
    {
     "name": "stdout",
     "output_type": "stream",
     "text": [
      "Residências incluídas no dataset\n"
     ]
    },
    {
     "data": {
      "text/html": [
       "<div>\n",
       "<style scoped>\n",
       "    .dataframe tbody tr th:only-of-type {\n",
       "        vertical-align: middle;\n",
       "    }\n",
       "\n",
       "    .dataframe tbody tr th {\n",
       "        vertical-align: top;\n",
       "    }\n",
       "\n",
       "    .dataframe thead th {\n",
       "        text-align: right;\n",
       "    }\n",
       "</style>\n",
       "<table border=\"1\" class=\"dataframe\">\n",
       "  <thead>\n",
       "    <tr style=\"text-align: right;\">\n",
       "      <th></th>\n",
       "      <th>LCLid</th>\n",
       "      <th>stdorToU</th>\n",
       "      <th>Acorn</th>\n",
       "      <th>Acorn_grouped</th>\n",
       "      <th>file</th>\n",
       "    </tr>\n",
       "  </thead>\n",
       "  <tbody>\n",
       "    <tr>\n",
       "      <th>0</th>\n",
       "      <td>MAC005492</td>\n",
       "      <td>ToU</td>\n",
       "      <td>ACORN-</td>\n",
       "      <td>ACORN-</td>\n",
       "      <td>block_0</td>\n",
       "    </tr>\n",
       "    <tr>\n",
       "      <th>1</th>\n",
       "      <td>MAC001074</td>\n",
       "      <td>ToU</td>\n",
       "      <td>ACORN-</td>\n",
       "      <td>ACORN-</td>\n",
       "      <td>block_0</td>\n",
       "    </tr>\n",
       "    <tr>\n",
       "      <th>2</th>\n",
       "      <td>MAC000002</td>\n",
       "      <td>Std</td>\n",
       "      <td>ACORN-A</td>\n",
       "      <td>Affluent</td>\n",
       "      <td>block_0</td>\n",
       "    </tr>\n",
       "    <tr>\n",
       "      <th>3</th>\n",
       "      <td>MAC003613</td>\n",
       "      <td>Std</td>\n",
       "      <td>ACORN-A</td>\n",
       "      <td>Affluent</td>\n",
       "      <td>block_0</td>\n",
       "    </tr>\n",
       "    <tr>\n",
       "      <th>4</th>\n",
       "      <td>MAC003597</td>\n",
       "      <td>Std</td>\n",
       "      <td>ACORN-A</td>\n",
       "      <td>Affluent</td>\n",
       "      <td>block_0</td>\n",
       "    </tr>\n",
       "  </tbody>\n",
       "</table>\n",
       "</div>"
      ],
      "text/plain": [
       "       LCLid stdorToU    Acorn Acorn_grouped     file\n",
       "0  MAC005492      ToU   ACORN-        ACORN-  block_0\n",
       "1  MAC001074      ToU   ACORN-        ACORN-  block_0\n",
       "2  MAC000002      Std  ACORN-A      Affluent  block_0\n",
       "3  MAC003613      Std  ACORN-A      Affluent  block_0\n",
       "4  MAC003597      Std  ACORN-A      Affluent  block_0"
      ]
     },
     "execution_count": 9,
     "metadata": {},
     "output_type": "execute_result"
    }
   ],
   "source": [
    "print(\"Residências incluídas no dataset\")\n",
    "residencias_info.head()"
   ]
  },
  {
   "cell_type": "code",
   "execution_count": 10,
   "metadata": {
    "colab": {
     "base_uri": "https://localhost:8080/",
     "height": 551
    },
    "id": "F3Hmk1SBp4ji",
    "outputId": "4d38c9e9-0cc5-41a8-e707-e30aff411ede"
   },
   "outputs": [
    {
     "name": "stdout",
     "output_type": "stream",
     "text": [
      "Informações diárias sobre o clima\n"
     ]
    },
    {
     "data": {
      "text/html": [
       "<div>\n",
       "<style scoped>\n",
       "    .dataframe tbody tr th:only-of-type {\n",
       "        vertical-align: middle;\n",
       "    }\n",
       "\n",
       "    .dataframe tbody tr th {\n",
       "        vertical-align: top;\n",
       "    }\n",
       "\n",
       "    .dataframe thead th {\n",
       "        text-align: right;\n",
       "    }\n",
       "</style>\n",
       "<table border=\"1\" class=\"dataframe\">\n",
       "  <thead>\n",
       "    <tr style=\"text-align: right;\">\n",
       "      <th></th>\n",
       "      <th>temperatureMax</th>\n",
       "      <th>temperatureMaxTime</th>\n",
       "      <th>windBearing</th>\n",
       "      <th>icon</th>\n",
       "      <th>dewPoint</th>\n",
       "      <th>temperatureMinTime</th>\n",
       "      <th>cloudCover</th>\n",
       "      <th>windSpeed</th>\n",
       "      <th>pressure</th>\n",
       "      <th>apparentTemperatureMinTime</th>\n",
       "      <th>...</th>\n",
       "      <th>temperatureHigh</th>\n",
       "      <th>sunriseTime</th>\n",
       "      <th>temperatureHighTime</th>\n",
       "      <th>uvIndexTime</th>\n",
       "      <th>summary</th>\n",
       "      <th>temperatureLowTime</th>\n",
       "      <th>apparentTemperatureMin</th>\n",
       "      <th>apparentTemperatureMaxTime</th>\n",
       "      <th>apparentTemperatureLowTime</th>\n",
       "      <th>moonPhase</th>\n",
       "    </tr>\n",
       "  </thead>\n",
       "  <tbody>\n",
       "    <tr>\n",
       "      <th>0</th>\n",
       "      <td>11.96</td>\n",
       "      <td>2011-11-11 23:00:00</td>\n",
       "      <td>123</td>\n",
       "      <td>fog</td>\n",
       "      <td>9.40</td>\n",
       "      <td>2011-11-11 07:00:00</td>\n",
       "      <td>0.79</td>\n",
       "      <td>3.88</td>\n",
       "      <td>1016.08</td>\n",
       "      <td>2011-11-11 07:00:00</td>\n",
       "      <td>...</td>\n",
       "      <td>10.87</td>\n",
       "      <td>2011-11-11 07:12:14</td>\n",
       "      <td>2011-11-11 19:00:00</td>\n",
       "      <td>2011-11-11 11:00:00</td>\n",
       "      <td>Foggy until afternoon.</td>\n",
       "      <td>2011-11-11 19:00:00</td>\n",
       "      <td>6.48</td>\n",
       "      <td>2011-11-11 23:00:00</td>\n",
       "      <td>2011-11-11 19:00:00</td>\n",
       "      <td>0.52</td>\n",
       "    </tr>\n",
       "    <tr>\n",
       "      <th>1</th>\n",
       "      <td>8.59</td>\n",
       "      <td>2011-12-11 14:00:00</td>\n",
       "      <td>198</td>\n",
       "      <td>partly-cloudy-day</td>\n",
       "      <td>4.49</td>\n",
       "      <td>2011-12-11 01:00:00</td>\n",
       "      <td>0.56</td>\n",
       "      <td>3.94</td>\n",
       "      <td>1007.71</td>\n",
       "      <td>2011-12-11 02:00:00</td>\n",
       "      <td>...</td>\n",
       "      <td>8.59</td>\n",
       "      <td>2011-12-11 07:57:02</td>\n",
       "      <td>2011-12-11 14:00:00</td>\n",
       "      <td>2011-12-11 12:00:00</td>\n",
       "      <td>Partly cloudy throughout the day.</td>\n",
       "      <td>2011-12-12 07:00:00</td>\n",
       "      <td>0.11</td>\n",
       "      <td>2011-12-11 20:00:00</td>\n",
       "      <td>2011-12-12 08:00:00</td>\n",
       "      <td>0.53</td>\n",
       "    </tr>\n",
       "    <tr>\n",
       "      <th>2</th>\n",
       "      <td>10.33</td>\n",
       "      <td>2011-12-27 02:00:00</td>\n",
       "      <td>225</td>\n",
       "      <td>partly-cloudy-day</td>\n",
       "      <td>5.47</td>\n",
       "      <td>2011-12-27 23:00:00</td>\n",
       "      <td>0.85</td>\n",
       "      <td>3.54</td>\n",
       "      <td>1032.76</td>\n",
       "      <td>2011-12-27 22:00:00</td>\n",
       "      <td>...</td>\n",
       "      <td>10.33</td>\n",
       "      <td>2011-12-27 08:07:06</td>\n",
       "      <td>2011-12-27 14:00:00</td>\n",
       "      <td>2011-12-27 00:00:00</td>\n",
       "      <td>Mostly cloudy throughout the day.</td>\n",
       "      <td>2011-12-27 23:00:00</td>\n",
       "      <td>5.59</td>\n",
       "      <td>2011-12-27 02:00:00</td>\n",
       "      <td>2011-12-28 00:00:00</td>\n",
       "      <td>0.10</td>\n",
       "    </tr>\n",
       "    <tr>\n",
       "      <th>3</th>\n",
       "      <td>8.07</td>\n",
       "      <td>2011-12-02 23:00:00</td>\n",
       "      <td>232</td>\n",
       "      <td>wind</td>\n",
       "      <td>3.69</td>\n",
       "      <td>2011-12-02 07:00:00</td>\n",
       "      <td>0.32</td>\n",
       "      <td>3.00</td>\n",
       "      <td>1012.12</td>\n",
       "      <td>2011-12-02 07:00:00</td>\n",
       "      <td>...</td>\n",
       "      <td>7.36</td>\n",
       "      <td>2011-12-02 07:46:09</td>\n",
       "      <td>2011-12-02 12:00:00</td>\n",
       "      <td>2011-12-02 10:00:00</td>\n",
       "      <td>Partly cloudy throughout the day and breezy ov...</td>\n",
       "      <td>2011-12-02 19:00:00</td>\n",
       "      <td>0.46</td>\n",
       "      <td>2011-12-02 12:00:00</td>\n",
       "      <td>2011-12-02 19:00:00</td>\n",
       "      <td>0.25</td>\n",
       "    </tr>\n",
       "    <tr>\n",
       "      <th>4</th>\n",
       "      <td>8.22</td>\n",
       "      <td>2011-12-24 23:00:00</td>\n",
       "      <td>252</td>\n",
       "      <td>partly-cloudy-night</td>\n",
       "      <td>2.79</td>\n",
       "      <td>2011-12-24 07:00:00</td>\n",
       "      <td>0.37</td>\n",
       "      <td>4.46</td>\n",
       "      <td>1028.17</td>\n",
       "      <td>2011-12-24 07:00:00</td>\n",
       "      <td>...</td>\n",
       "      <td>7.93</td>\n",
       "      <td>2011-12-24 08:06:15</td>\n",
       "      <td>2011-12-24 15:00:00</td>\n",
       "      <td>2011-12-24 13:00:00</td>\n",
       "      <td>Mostly cloudy throughout the day.</td>\n",
       "      <td>2011-12-24 19:00:00</td>\n",
       "      <td>-0.51</td>\n",
       "      <td>2011-12-24 23:00:00</td>\n",
       "      <td>2011-12-24 20:00:00</td>\n",
       "      <td>0.99</td>\n",
       "    </tr>\n",
       "  </tbody>\n",
       "</table>\n",
       "<p>5 rows × 32 columns</p>\n",
       "</div>"
      ],
      "text/plain": [
       "   temperatureMax   temperatureMaxTime  windBearing                 icon  \\\n",
       "0           11.96  2011-11-11 23:00:00          123                  fog   \n",
       "1            8.59  2011-12-11 14:00:00          198    partly-cloudy-day   \n",
       "2           10.33  2011-12-27 02:00:00          225    partly-cloudy-day   \n",
       "3            8.07  2011-12-02 23:00:00          232                 wind   \n",
       "4            8.22  2011-12-24 23:00:00          252  partly-cloudy-night   \n",
       "\n",
       "   dewPoint   temperatureMinTime  cloudCover  windSpeed  pressure  \\\n",
       "0      9.40  2011-11-11 07:00:00        0.79       3.88   1016.08   \n",
       "1      4.49  2011-12-11 01:00:00        0.56       3.94   1007.71   \n",
       "2      5.47  2011-12-27 23:00:00        0.85       3.54   1032.76   \n",
       "3      3.69  2011-12-02 07:00:00        0.32       3.00   1012.12   \n",
       "4      2.79  2011-12-24 07:00:00        0.37       4.46   1028.17   \n",
       "\n",
       "  apparentTemperatureMinTime  ...  temperatureHigh          sunriseTime  \\\n",
       "0        2011-11-11 07:00:00  ...            10.87  2011-11-11 07:12:14   \n",
       "1        2011-12-11 02:00:00  ...             8.59  2011-12-11 07:57:02   \n",
       "2        2011-12-27 22:00:00  ...            10.33  2011-12-27 08:07:06   \n",
       "3        2011-12-02 07:00:00  ...             7.36  2011-12-02 07:46:09   \n",
       "4        2011-12-24 07:00:00  ...             7.93  2011-12-24 08:06:15   \n",
       "\n",
       "   temperatureHighTime          uvIndexTime  \\\n",
       "0  2011-11-11 19:00:00  2011-11-11 11:00:00   \n",
       "1  2011-12-11 14:00:00  2011-12-11 12:00:00   \n",
       "2  2011-12-27 14:00:00  2011-12-27 00:00:00   \n",
       "3  2011-12-02 12:00:00  2011-12-02 10:00:00   \n",
       "4  2011-12-24 15:00:00  2011-12-24 13:00:00   \n",
       "\n",
       "                                             summary   temperatureLowTime  \\\n",
       "0                             Foggy until afternoon.  2011-11-11 19:00:00   \n",
       "1                  Partly cloudy throughout the day.  2011-12-12 07:00:00   \n",
       "2                  Mostly cloudy throughout the day.  2011-12-27 23:00:00   \n",
       "3  Partly cloudy throughout the day and breezy ov...  2011-12-02 19:00:00   \n",
       "4                  Mostly cloudy throughout the day.  2011-12-24 19:00:00   \n",
       "\n",
       "   apparentTemperatureMin  apparentTemperatureMaxTime  \\\n",
       "0                    6.48         2011-11-11 23:00:00   \n",
       "1                    0.11         2011-12-11 20:00:00   \n",
       "2                    5.59         2011-12-27 02:00:00   \n",
       "3                    0.46         2011-12-02 12:00:00   \n",
       "4                   -0.51         2011-12-24 23:00:00   \n",
       "\n",
       "  apparentTemperatureLowTime moonPhase  \n",
       "0        2011-11-11 19:00:00      0.52  \n",
       "1        2011-12-12 08:00:00      0.53  \n",
       "2        2011-12-28 00:00:00      0.10  \n",
       "3        2011-12-02 19:00:00      0.25  \n",
       "4        2011-12-24 20:00:00      0.99  \n",
       "\n",
       "[5 rows x 32 columns]"
      ]
     },
     "execution_count": 10,
     "metadata": {},
     "output_type": "execute_result"
    }
   ],
   "source": [
    "print('Informações diárias sobre o clima')\n",
    "clima_diario.head()"
   ]
  },
  {
   "cell_type": "code",
   "execution_count": 11,
   "metadata": {
    "colab": {
     "base_uri": "https://localhost:8080/",
     "height": 224
    },
    "id": "IDUDccHCp_HP",
    "outputId": "ea39f3ef-601f-4f1a-e6b0-a3457c22270f"
   },
   "outputs": [
    {
     "name": "stdout",
     "output_type": "stream",
     "text": [
      "Informações sobre consumo diário por casa\n"
     ]
    },
    {
     "data": {
      "text/html": [
       "<div>\n",
       "<style scoped>\n",
       "    .dataframe tbody tr th:only-of-type {\n",
       "        vertical-align: middle;\n",
       "    }\n",
       "\n",
       "    .dataframe tbody tr th {\n",
       "        vertical-align: top;\n",
       "    }\n",
       "\n",
       "    .dataframe thead th {\n",
       "        text-align: right;\n",
       "    }\n",
       "</style>\n",
       "<table border=\"1\" class=\"dataframe\">\n",
       "  <thead>\n",
       "    <tr style=\"text-align: right;\">\n",
       "      <th></th>\n",
       "      <th>LCLid</th>\n",
       "      <th>day</th>\n",
       "      <th>energy_median</th>\n",
       "      <th>energy_mean</th>\n",
       "      <th>energy_max</th>\n",
       "      <th>energy_count</th>\n",
       "      <th>energy_std</th>\n",
       "      <th>energy_sum</th>\n",
       "      <th>energy_min</th>\n",
       "    </tr>\n",
       "  </thead>\n",
       "  <tbody>\n",
       "    <tr>\n",
       "      <th>0</th>\n",
       "      <td>MAC000131</td>\n",
       "      <td>2011-12-15</td>\n",
       "      <td>0.4850</td>\n",
       "      <td>0.432045</td>\n",
       "      <td>0.868</td>\n",
       "      <td>22</td>\n",
       "      <td>0.239146</td>\n",
       "      <td>9.505</td>\n",
       "      <td>0.072</td>\n",
       "    </tr>\n",
       "    <tr>\n",
       "      <th>1</th>\n",
       "      <td>MAC000131</td>\n",
       "      <td>2011-12-16</td>\n",
       "      <td>0.1415</td>\n",
       "      <td>0.296167</td>\n",
       "      <td>1.116</td>\n",
       "      <td>48</td>\n",
       "      <td>0.281471</td>\n",
       "      <td>14.216</td>\n",
       "      <td>0.031</td>\n",
       "    </tr>\n",
       "    <tr>\n",
       "      <th>2</th>\n",
       "      <td>MAC000131</td>\n",
       "      <td>2011-12-17</td>\n",
       "      <td>0.1015</td>\n",
       "      <td>0.189812</td>\n",
       "      <td>0.685</td>\n",
       "      <td>48</td>\n",
       "      <td>0.188405</td>\n",
       "      <td>9.111</td>\n",
       "      <td>0.064</td>\n",
       "    </tr>\n",
       "    <tr>\n",
       "      <th>3</th>\n",
       "      <td>MAC000131</td>\n",
       "      <td>2011-12-18</td>\n",
       "      <td>0.1140</td>\n",
       "      <td>0.218979</td>\n",
       "      <td>0.676</td>\n",
       "      <td>48</td>\n",
       "      <td>0.202919</td>\n",
       "      <td>10.511</td>\n",
       "      <td>0.065</td>\n",
       "    </tr>\n",
       "    <tr>\n",
       "      <th>4</th>\n",
       "      <td>MAC000131</td>\n",
       "      <td>2011-12-19</td>\n",
       "      <td>0.1910</td>\n",
       "      <td>0.325979</td>\n",
       "      <td>0.788</td>\n",
       "      <td>48</td>\n",
       "      <td>0.259205</td>\n",
       "      <td>15.647</td>\n",
       "      <td>0.066</td>\n",
       "    </tr>\n",
       "  </tbody>\n",
       "</table>\n",
       "</div>"
      ],
      "text/plain": [
       "       LCLid         day  energy_median  energy_mean  energy_max  \\\n",
       "0  MAC000131  2011-12-15         0.4850     0.432045       0.868   \n",
       "1  MAC000131  2011-12-16         0.1415     0.296167       1.116   \n",
       "2  MAC000131  2011-12-17         0.1015     0.189812       0.685   \n",
       "3  MAC000131  2011-12-18         0.1140     0.218979       0.676   \n",
       "4  MAC000131  2011-12-19         0.1910     0.325979       0.788   \n",
       "\n",
       "   energy_count  energy_std  energy_sum  energy_min  \n",
       "0            22    0.239146       9.505       0.072  \n",
       "1            48    0.281471      14.216       0.031  \n",
       "2            48    0.188405       9.111       0.064  \n",
       "3            48    0.202919      10.511       0.065  \n",
       "4            48    0.259205      15.647       0.066  "
      ]
     },
     "execution_count": 11,
     "metadata": {},
     "output_type": "execute_result"
    }
   ],
   "source": [
    "print('Informações sobre consumo diário por casa')\n",
    "energia_diario.head()"
   ]
  },
  {
   "cell_type": "code",
   "execution_count": 12,
   "metadata": {
    "colab": {
     "base_uri": "https://localhost:8080/"
    },
    "id": "N6aMdqemp448",
    "outputId": "1640bdfa-4925-4dc1-8d22-3a8e5f41ca49"
   },
   "outputs": [
    {
     "name": "stdout",
     "output_type": "stream",
     "text": [
      "<class 'pandas.core.frame.DataFrame'>\n",
      "RangeIndex: 5566 entries, 0 to 5565\n",
      "Data columns (total 5 columns):\n",
      " #   Column         Non-Null Count  Dtype \n",
      "---  ------         --------------  ----- \n",
      " 0   LCLid          5566 non-null   object\n",
      " 1   stdorToU       5566 non-null   object\n",
      " 2   Acorn          5566 non-null   object\n",
      " 3   Acorn_grouped  5566 non-null   object\n",
      " 4   file           5566 non-null   object\n",
      "dtypes: object(5)\n",
      "memory usage: 217.6+ KB\n"
     ]
    }
   ],
   "source": [
    "residencias_info.info()"
   ]
  },
  {
   "cell_type": "code",
   "execution_count": 13,
   "metadata": {
    "colab": {
     "base_uri": "https://localhost:8080/"
    },
    "id": "-xR-5F5Iqsmc",
    "outputId": "6e8cde5c-f600-4e99-a0e9-c1c3e4e08154"
   },
   "outputs": [
    {
     "name": "stdout",
     "output_type": "stream",
     "text": [
      "<class 'pandas.core.frame.DataFrame'>\n",
      "RangeIndex: 882 entries, 0 to 881\n",
      "Data columns (total 32 columns):\n",
      " #   Column                       Non-Null Count  Dtype  \n",
      "---  ------                       --------------  -----  \n",
      " 0   temperatureMax               882 non-null    float64\n",
      " 1   temperatureMaxTime           882 non-null    object \n",
      " 2   windBearing                  882 non-null    int64  \n",
      " 3   icon                         882 non-null    object \n",
      " 4   dewPoint                     882 non-null    float64\n",
      " 5   temperatureMinTime           882 non-null    object \n",
      " 6   cloudCover                   881 non-null    float64\n",
      " 7   windSpeed                    882 non-null    float64\n",
      " 8   pressure                     882 non-null    float64\n",
      " 9   apparentTemperatureMinTime   882 non-null    object \n",
      " 10  apparentTemperatureHigh      882 non-null    float64\n",
      " 11  precipType                   882 non-null    object \n",
      " 12  visibility                   882 non-null    float64\n",
      " 13  humidity                     882 non-null    float64\n",
      " 14  apparentTemperatureHighTime  882 non-null    object \n",
      " 15  apparentTemperatureLow       882 non-null    float64\n",
      " 16  apparentTemperatureMax       882 non-null    float64\n",
      " 17  uvIndex                      881 non-null    float64\n",
      " 18  time                         882 non-null    object \n",
      " 19  sunsetTime                   882 non-null    object \n",
      " 20  temperatureLow               882 non-null    float64\n",
      " 21  temperatureMin               882 non-null    float64\n",
      " 22  temperatureHigh              882 non-null    float64\n",
      " 23  sunriseTime                  882 non-null    object \n",
      " 24  temperatureHighTime          882 non-null    object \n",
      " 25  uvIndexTime                  881 non-null    object \n",
      " 26  summary                      882 non-null    object \n",
      " 27  temperatureLowTime           882 non-null    object \n",
      " 28  apparentTemperatureMin       882 non-null    float64\n",
      " 29  apparentTemperatureMaxTime   882 non-null    object \n",
      " 30  apparentTemperatureLowTime   882 non-null    object \n",
      " 31  moonPhase                    882 non-null    float64\n",
      "dtypes: float64(16), int64(1), object(15)\n",
      "memory usage: 220.6+ KB\n"
     ]
    }
   ],
   "source": [
    "clima_diario.info()"
   ]
  },
  {
   "cell_type": "code",
   "execution_count": 14,
   "metadata": {
    "colab": {
     "base_uri": "https://localhost:8080/"
    },
    "id": "5oglIDMqqvTZ",
    "outputId": "e2393dc1-c24e-4c93-d5a9-417a7f70be4a"
   },
   "outputs": [
    {
     "name": "stdout",
     "output_type": "stream",
     "text": [
      "<class 'pandas.core.frame.DataFrame'>\n",
      "RangeIndex: 3510433 entries, 0 to 3510432\n",
      "Data columns (total 9 columns):\n",
      " #   Column         Dtype  \n",
      "---  ------         -----  \n",
      " 0   LCLid          object \n",
      " 1   day            object \n",
      " 2   energy_median  float64\n",
      " 3   energy_mean    float64\n",
      " 4   energy_max     float64\n",
      " 5   energy_count   int64  \n",
      " 6   energy_std     float64\n",
      " 7   energy_sum     float64\n",
      " 8   energy_min     float64\n",
      "dtypes: float64(6), int64(1), object(2)\n",
      "memory usage: 241.0+ MB\n"
     ]
    }
   ],
   "source": [
    "energia_diario.info()"
   ]
  },
  {
   "cell_type": "markdown",
   "metadata": {
    "id": "yP4hdgbEq9Sr"
   },
   "source": [
    "Avaliando os tipos de dados, vemos que será necessário fazer um tratamento nas colunas de data para evitar problemas futuros"
   ]
  },
  {
   "cell_type": "markdown",
   "metadata": {
    "id": "87BANm_5sMTp"
   },
   "source": [
    "### Conversão do tipo de colunas de data"
   ]
  },
  {
   "cell_type": "code",
   "execution_count": 15,
   "metadata": {
    "id": "BOkj3Xj5sS9s"
   },
   "outputs": [],
   "source": [
    "energia_diario['date'] = pd.to_datetime(energia_diario['day'])\n",
    "clima_diario['date'] = pd.to_datetime(clima_diario['time'])\n",
    "feriados['date'] = pd.to_datetime(feriados['Bank holidays'])"
   ]
  },
  {
   "cell_type": "code",
   "execution_count": 16,
   "metadata": {
    "colab": {
     "base_uri": "https://localhost:8080/",
     "height": 224
    },
    "id": "-Of9S_w_tqqs",
    "outputId": "b8c859f6-85a5-49ca-df70-cbb66685eb9b"
   },
   "outputs": [
    {
     "name": "stdout",
     "output_type": "stream",
     "text": [
      "datetime64[ns]\n"
     ]
    },
    {
     "data": {
      "text/html": [
       "<div>\n",
       "<style scoped>\n",
       "    .dataframe tbody tr th:only-of-type {\n",
       "        vertical-align: middle;\n",
       "    }\n",
       "\n",
       "    .dataframe tbody tr th {\n",
       "        vertical-align: top;\n",
       "    }\n",
       "\n",
       "    .dataframe thead th {\n",
       "        text-align: right;\n",
       "    }\n",
       "</style>\n",
       "<table border=\"1\" class=\"dataframe\">\n",
       "  <thead>\n",
       "    <tr style=\"text-align: right;\">\n",
       "      <th></th>\n",
       "      <th>date</th>\n",
       "      <th>day</th>\n",
       "    </tr>\n",
       "  </thead>\n",
       "  <tbody>\n",
       "    <tr>\n",
       "      <th>0</th>\n",
       "      <td>2011-12-15</td>\n",
       "      <td>2011-12-15</td>\n",
       "    </tr>\n",
       "    <tr>\n",
       "      <th>1</th>\n",
       "      <td>2011-12-16</td>\n",
       "      <td>2011-12-16</td>\n",
       "    </tr>\n",
       "    <tr>\n",
       "      <th>2</th>\n",
       "      <td>2011-12-17</td>\n",
       "      <td>2011-12-17</td>\n",
       "    </tr>\n",
       "    <tr>\n",
       "      <th>3</th>\n",
       "      <td>2011-12-18</td>\n",
       "      <td>2011-12-18</td>\n",
       "    </tr>\n",
       "    <tr>\n",
       "      <th>4</th>\n",
       "      <td>2011-12-19</td>\n",
       "      <td>2011-12-19</td>\n",
       "    </tr>\n",
       "  </tbody>\n",
       "</table>\n",
       "</div>"
      ],
      "text/plain": [
       "        date         day\n",
       "0 2011-12-15  2011-12-15\n",
       "1 2011-12-16  2011-12-16\n",
       "2 2011-12-17  2011-12-17\n",
       "3 2011-12-18  2011-12-18\n",
       "4 2011-12-19  2011-12-19"
      ]
     },
     "execution_count": 16,
     "metadata": {},
     "output_type": "execute_result"
    }
   ],
   "source": [
    "print(energia_diario['date'].dtypes)\n",
    "energia_diario[['date', 'day']].head()"
   ]
  },
  {
   "cell_type": "code",
   "execution_count": 17,
   "metadata": {
    "colab": {
     "base_uri": "https://localhost:8080/",
     "height": 224
    },
    "id": "7WZ1hy1_uEdc",
    "outputId": "0caa3a97-05c6-4c54-e882-4eced209971e"
   },
   "outputs": [
    {
     "name": "stdout",
     "output_type": "stream",
     "text": [
      "datetime64[ns]\n"
     ]
    },
    {
     "data": {
      "text/html": [
       "<div>\n",
       "<style scoped>\n",
       "    .dataframe tbody tr th:only-of-type {\n",
       "        vertical-align: middle;\n",
       "    }\n",
       "\n",
       "    .dataframe tbody tr th {\n",
       "        vertical-align: top;\n",
       "    }\n",
       "\n",
       "    .dataframe thead th {\n",
       "        text-align: right;\n",
       "    }\n",
       "</style>\n",
       "<table border=\"1\" class=\"dataframe\">\n",
       "  <thead>\n",
       "    <tr style=\"text-align: right;\">\n",
       "      <th></th>\n",
       "      <th>date</th>\n",
       "      <th>time</th>\n",
       "    </tr>\n",
       "  </thead>\n",
       "  <tbody>\n",
       "    <tr>\n",
       "      <th>0</th>\n",
       "      <td>2011-11-11</td>\n",
       "      <td>2011-11-11 00:00:00</td>\n",
       "    </tr>\n",
       "    <tr>\n",
       "      <th>1</th>\n",
       "      <td>2011-12-11</td>\n",
       "      <td>2011-12-11 00:00:00</td>\n",
       "    </tr>\n",
       "    <tr>\n",
       "      <th>2</th>\n",
       "      <td>2011-12-27</td>\n",
       "      <td>2011-12-27 00:00:00</td>\n",
       "    </tr>\n",
       "    <tr>\n",
       "      <th>3</th>\n",
       "      <td>2011-12-02</td>\n",
       "      <td>2011-12-02 00:00:00</td>\n",
       "    </tr>\n",
       "    <tr>\n",
       "      <th>4</th>\n",
       "      <td>2011-12-24</td>\n",
       "      <td>2011-12-24 00:00:00</td>\n",
       "    </tr>\n",
       "  </tbody>\n",
       "</table>\n",
       "</div>"
      ],
      "text/plain": [
       "        date                 time\n",
       "0 2011-11-11  2011-11-11 00:00:00\n",
       "1 2011-12-11  2011-12-11 00:00:00\n",
       "2 2011-12-27  2011-12-27 00:00:00\n",
       "3 2011-12-02  2011-12-02 00:00:00\n",
       "4 2011-12-24  2011-12-24 00:00:00"
      ]
     },
     "execution_count": 17,
     "metadata": {},
     "output_type": "execute_result"
    }
   ],
   "source": [
    "print(clima_diario['date'].dtypes)\n",
    "clima_diario[['date', 'time']].head()"
   ]
  },
  {
   "cell_type": "code",
   "execution_count": 18,
   "metadata": {
    "colab": {
     "base_uri": "https://localhost:8080/",
     "height": 224
    },
    "id": "KrKGhIYZfsOo",
    "outputId": "327ad8ae-6379-4336-aac0-9c2d521715e1"
   },
   "outputs": [
    {
     "name": "stdout",
     "output_type": "stream",
     "text": [
      "datetime64[ns]\n"
     ]
    },
    {
     "data": {
      "text/html": [
       "<div>\n",
       "<style scoped>\n",
       "    .dataframe tbody tr th:only-of-type {\n",
       "        vertical-align: middle;\n",
       "    }\n",
       "\n",
       "    .dataframe tbody tr th {\n",
       "        vertical-align: top;\n",
       "    }\n",
       "\n",
       "    .dataframe thead th {\n",
       "        text-align: right;\n",
       "    }\n",
       "</style>\n",
       "<table border=\"1\" class=\"dataframe\">\n",
       "  <thead>\n",
       "    <tr style=\"text-align: right;\">\n",
       "      <th></th>\n",
       "      <th>date</th>\n",
       "      <th>Bank holidays</th>\n",
       "    </tr>\n",
       "  </thead>\n",
       "  <tbody>\n",
       "    <tr>\n",
       "      <th>0</th>\n",
       "      <td>2012-12-26</td>\n",
       "      <td>2012-12-26</td>\n",
       "    </tr>\n",
       "    <tr>\n",
       "      <th>1</th>\n",
       "      <td>2012-12-25</td>\n",
       "      <td>2012-12-25</td>\n",
       "    </tr>\n",
       "    <tr>\n",
       "      <th>2</th>\n",
       "      <td>2012-08-27</td>\n",
       "      <td>2012-08-27</td>\n",
       "    </tr>\n",
       "    <tr>\n",
       "      <th>3</th>\n",
       "      <td>2012-05-06</td>\n",
       "      <td>2012-05-06</td>\n",
       "    </tr>\n",
       "    <tr>\n",
       "      <th>4</th>\n",
       "      <td>2012-04-06</td>\n",
       "      <td>2012-04-06</td>\n",
       "    </tr>\n",
       "  </tbody>\n",
       "</table>\n",
       "</div>"
      ],
      "text/plain": [
       "        date Bank holidays\n",
       "0 2012-12-26    2012-12-26\n",
       "1 2012-12-25    2012-12-25\n",
       "2 2012-08-27    2012-08-27\n",
       "3 2012-05-06    2012-05-06\n",
       "4 2012-04-06    2012-04-06"
      ]
     },
     "execution_count": 18,
     "metadata": {},
     "output_type": "execute_result"
    }
   ],
   "source": [
    "print(feriados['date'].dtypes)\n",
    "feriados[['date', 'Bank holidays']].head()"
   ]
  },
  {
   "cell_type": "markdown",
   "metadata": {
    "id": "lEaEWZVerGwz"
   },
   "source": [
    "### Remoção de valores nulos e duplicados"
   ]
  },
  {
   "cell_type": "code",
   "execution_count": 19,
   "metadata": {
    "colab": {
     "base_uri": "https://localhost:8080/"
    },
    "id": "Caz3If0uq9E8",
    "outputId": "2ded8888-4dc4-426b-f6a0-ff904d87333a"
   },
   "outputs": [
    {
     "name": "stdout",
     "output_type": "stream",
     "text": [
      "valores nulos em residencia_diario\n",
      "LCLid            0\n",
      "stdorToU         0\n",
      "Acorn            0\n",
      "Acorn_grouped    0\n",
      "file             0\n",
      "dtype: int64\n",
      "valores nulos em clima_diario\n",
      "temperatureMax                 0\n",
      "temperatureMaxTime             0\n",
      "windBearing                    0\n",
      "icon                           0\n",
      "dewPoint                       0\n",
      "temperatureMinTime             0\n",
      "cloudCover                     1\n",
      "windSpeed                      0\n",
      "pressure                       0\n",
      "apparentTemperatureMinTime     0\n",
      "apparentTemperatureHigh        0\n",
      "precipType                     0\n",
      "visibility                     0\n",
      "humidity                       0\n",
      "apparentTemperatureHighTime    0\n",
      "apparentTemperatureLow         0\n",
      "apparentTemperatureMax         0\n",
      "uvIndex                        1\n",
      "time                           0\n",
      "sunsetTime                     0\n",
      "temperatureLow                 0\n",
      "temperatureMin                 0\n",
      "temperatureHigh                0\n",
      "sunriseTime                    0\n",
      "temperatureHighTime            0\n",
      "uvIndexTime                    1\n",
      "summary                        0\n",
      "temperatureLowTime             0\n",
      "apparentTemperatureMin         0\n",
      "apparentTemperatureMaxTime     0\n",
      "apparentTemperatureLowTime     0\n",
      "moonPhase                      0\n",
      "date                           0\n",
      "dtype: int64\n",
      "valores nulos em energia_diario\n",
      "LCLid                0\n",
      "day                  0\n",
      "energy_median       30\n",
      "energy_mean         30\n",
      "energy_max          30\n",
      "energy_count         0\n",
      "energy_std       11331\n",
      "energy_sum          30\n",
      "energy_min          30\n",
      "date                 0\n",
      "dtype: int64\n"
     ]
    }
   ],
   "source": [
    "print(\"valores nulos em residencia_diario\")\n",
    "print(residencias_info.isnull().sum())\n",
    "print(\"valores nulos em clima_diario\")\n",
    "print(clima_diario.isnull().sum())\n",
    "print(\"valores nulos em energia_diario\")\n",
    "print(energia_diario.isnull().sum())"
   ]
  },
  {
   "cell_type": "code",
   "execution_count": 20,
   "metadata": {
    "colab": {
     "base_uri": "https://localhost:8080/"
    },
    "id": "z15NJfmZrYkR",
    "outputId": "a97b9f86-fe07-4e68-f124-4c85e31841df"
   },
   "outputs": [
    {
     "name": "stdout",
     "output_type": "stream",
     "text": [
      "valores duplicados em residencias_info\n",
      "0\n",
      "valores duplicados em clima_diario\n",
      "0\n",
      "valores duplicados em energia_diario\n",
      "0\n"
     ]
    }
   ],
   "source": [
    "print(\"valores duplicados em residencias_info\")\n",
    "print(residencias_info.duplicated().sum())\n",
    "print(\"valores duplicados em clima_diario\")\n",
    "print(clima_diario.duplicated().sum())\n",
    "print(\"valores duplicados em energia_diario\")\n",
    "print(energia_diario.duplicated().sum())"
   ]
  },
  {
   "cell_type": "code",
   "execution_count": 21,
   "metadata": {
    "id": "nSJQLQGwr7Zx"
   },
   "outputs": [],
   "source": [
    "residencias_info.dropna(inplace=True)\n",
    "clima_diario.dropna(inplace=True)\n",
    "energia_diario.dropna(inplace=True)"
   ]
  },
  {
   "cell_type": "code",
   "execution_count": 22,
   "metadata": {
    "colab": {
     "base_uri": "https://localhost:8080/"
    },
    "id": "XH30Ak1tsAtS",
    "outputId": "e1f20dc1-5903-4520-9b88-ec3ea19c91b9"
   },
   "outputs": [
    {
     "name": "stdout",
     "output_type": "stream",
     "text": [
      "valores nulos em residencia_diario\n",
      "LCLid            0\n",
      "stdorToU         0\n",
      "Acorn            0\n",
      "Acorn_grouped    0\n",
      "file             0\n",
      "dtype: int64\n",
      "valores nulos em clima_diario\n",
      "temperatureMax                 0\n",
      "temperatureMaxTime             0\n",
      "windBearing                    0\n",
      "icon                           0\n",
      "dewPoint                       0\n",
      "temperatureMinTime             0\n",
      "cloudCover                     0\n",
      "windSpeed                      0\n",
      "pressure                       0\n",
      "apparentTemperatureMinTime     0\n",
      "apparentTemperatureHigh        0\n",
      "precipType                     0\n",
      "visibility                     0\n",
      "humidity                       0\n",
      "apparentTemperatureHighTime    0\n",
      "apparentTemperatureLow         0\n",
      "apparentTemperatureMax         0\n",
      "uvIndex                        0\n",
      "time                           0\n",
      "sunsetTime                     0\n",
      "temperatureLow                 0\n",
      "temperatureMin                 0\n",
      "temperatureHigh                0\n",
      "sunriseTime                    0\n",
      "temperatureHighTime            0\n",
      "uvIndexTime                    0\n",
      "summary                        0\n",
      "temperatureLowTime             0\n",
      "apparentTemperatureMin         0\n",
      "apparentTemperatureMaxTime     0\n",
      "apparentTemperatureLowTime     0\n",
      "moonPhase                      0\n",
      "date                           0\n",
      "dtype: int64\n",
      "valores nulos em energia_diario\n",
      "LCLid            0\n",
      "day              0\n",
      "energy_median    0\n",
      "energy_mean      0\n",
      "energy_max       0\n",
      "energy_count     0\n",
      "energy_std       0\n",
      "energy_sum       0\n",
      "energy_min       0\n",
      "date             0\n",
      "dtype: int64\n"
     ]
    }
   ],
   "source": [
    "print(\"valores nulos em residencia_diario\")\n",
    "print(residencias_info.isnull().sum())\n",
    "print(\"valores nulos em clima_diario\")\n",
    "print(clima_diario.isnull().sum())\n",
    "print(\"valores nulos em energia_diario\")\n",
    "print(energia_diario.isnull().sum())"
   ]
  },
  {
   "cell_type": "markdown",
   "metadata": {
    "id": "7ftOLPyGsDoH"
   },
   "source": [
    "## Análise Exploratória"
   ]
  },
  {
   "cell_type": "markdown",
   "metadata": {
    "id": "b_pwTkPSvYmW"
   },
   "source": [
    "### Identificação de Outliers e Correlação"
   ]
  },
  {
   "cell_type": "code",
   "execution_count": 23,
   "metadata": {
    "colab": {
     "base_uri": "https://localhost:8080/",
     "height": 793
    },
    "id": "6C2dkO9YwXKi",
    "outputId": "aab3f5f1-9e1b-4166-9852-2620312864d0"
   },
   "outputs": [
    {
     "data": {
      "image/png": "[encoded data removed]",
      "text/plain": [
       "<Figure size 1000x800 with 2 Axes>"
      ]
     },
     "metadata": {},
     "output_type": "display_data"
    }
   ],
   "source": [
    "correlation_matrix = energia_diario.select_dtypes(include=['int64', 'float64']).corr()\n",
    "plt.figure(figsize=(10,8))\n",
    "sns.heatmap(correlation_matrix, annot=True, cmap='coolwarm', square=True)\n",
    "plt.title('HeatMap de Correlação - Energia diário')\n",
    "plt.show()"
   ]
  },
  {
   "cell_type": "code",
   "execution_count": 24,
   "metadata": {
    "colab": {
     "base_uri": "https://localhost:8080/",
     "height": 868
    },
    "id": "YFDPXh4wEbY-",
    "outputId": "dd5bee9e-f6fb-41bd-eafd-7999cc0c4fc4"
   },
   "outputs": [
    {
     "data": {
      "image/png": "[encoded data removed]",
      "text/plain": [
       "<Figure size 1000x800 with 2 Axes>"
      ]
     },
     "metadata": {},
     "output_type": "display_data"
    }
   ],
   "source": [
    "correlation_matrix = clima_diario.select_dtypes(include=['int64', 'float64']).corr()\n",
    "plt.figure(figsize=(10,8))\n",
    "sns.heatmap(correlation_matrix, annot=True, cmap='coolwarm', square=True)\n",
    "plt.title('HeatMap de Correlação - Clima diário')\n",
    "plt.show()"
   ]
  },
  {
   "cell_type": "code",
   "execution_count": 25,
   "metadata": {
    "colab": {
     "base_uri": "https://localhost:8080/",
     "height": 472
    },
    "id": "GSAjgSHUyz_n",
    "outputId": "a5b9ade5-44ab-4def-d10b-af0bd3ba1109"
   },
   "outputs": [
    {
     "data": {
      "image/png": "[encoded data removed]",
      "text/plain": [
       "<Figure size 640x480 with 1 Axes>"
      ]
     },
     "metadata": {},
     "output_type": "display_data"
    }
   ],
   "source": [
    "sns.histplot(energia_diario['energy_mean'], kde=True, color='cyan')\n",
    "plt.title('Histograma da Energia Diária')\n",
    "plt.show()"
   ]
  },
  {
   "cell_type": "code",
   "execution_count": 26,
   "metadata": {
    "colab": {
     "base_uri": "https://localhost:8080/",
     "height": 489
    },
    "id": "W9qollvOCzIG",
    "outputId": "e57130ec-d96d-4868-fc00-eccffced4689"
   },
   "outputs": [
    {
     "data": {
      "text/plain": [
       "Text(0.5, 1.0, 'Histograma da Temperatura Máxima')"
      ]
     },
     "execution_count": 26,
     "metadata": {},
     "output_type": "execute_result"
    },
    {
     "data": {
      "image/png": "[encoded data removed]",
      "text/plain": [
       "<Figure size 640x480 with 1 Axes>"
      ]
     },
     "metadata": {},
     "output_type": "display_data"
    }
   ],
   "source": [
    "sns.histplot(clima_diario['temperatureMax'], kde=True, color='purple')\n",
    "plt.title('Histograma da Temperatura Máxima')"
   ]
  },
  {
   "cell_type": "markdown",
   "metadata": {
    "id": "N6Pz6sUOEsBx"
   },
   "source": [
    "### Algumas conclusões\n",
    "\n",
    "Existe uma forte correlação entre todas as features de temperatura com a coluna de Temperatura Máxima. Provavelmente podemos manter somente esta coluna em detrimento das outras, sem perda significativa.\n",
    "\n",
    "De forma similar, as colunas de média, mediana e soma da energia também parecem ser fortemente correlacionados.\n",
    "\n",
    "O histograma da temperatura máxima demonstra que os dados se assemelham a uma distribuição normal bem comportada e praticamente simétrica, com um leve desvio para temperaturas menores. Histogramas de outras features relacionadas à temperatura se comportam de maneira semelhante.\n",
    "\n",
    "Os dados de energia média apresentam um comportamento interessante. A grande maioria dos dados esta alocado na faixa de 0 a 1, mas existem alguns dados, com frequência bem menor, que podem ser até 7 vezes maiores. A seguir está representado o histograma com dados de média de energia somente entre 0 e 1."
   ]
  },
  {
   "cell_type": "code",
   "execution_count": 27,
   "metadata": {
    "colab": {
     "base_uri": "https://localhost:8080/",
     "height": 489
    },
    "id": "0hnDdscYGlhZ",
    "outputId": "031f100b-0b47-4ed5-814e-f5cbf7ee7134"
   },
   "outputs": [
    {
     "data": {
      "text/plain": [
       "Text(0.5, 1.0, 'Histograma da Média de Energia (filtrado para valores entre 0 e 1)')"
      ]
     },
     "execution_count": 27,
     "metadata": {},
     "output_type": "execute_result"
    },
    {
     "data": {
      "image/png": "[encoded data removed]",
      "text/plain": [
       "<Figure size 640x480 with 1 Axes>"
      ]
     },
     "metadata": {},
     "output_type": "display_data"
    }
   ],
   "source": [
    "energia_diario_filtrado = energia_diario.loc[energia_diario['energy_mean'] <= 1]\n",
    "sns.histplot(energia_diario_filtrado['energy_mean'], kde=True, color='cyan')\n",
    "plt.title('Histograma da Média de Energia (filtrado para valores entre 0 e 1)')"
   ]
  },
  {
   "cell_type": "markdown",
   "metadata": {
    "id": "KX89vzNOHbhM"
   },
   "source": [
    "Observamos que neste caso, a distribuição observada pode ser melhor avaliada. Existe uma alta concentradação para valores de energia na faixa de 0.1 a 0.2, sendo que as frequências caem exponenciamente na medida em que a energia aumenta. Embora os dados indiquem a possibilidade da presença de alguns outliers, não podemos descartar com autoridade nenhum dos valores em primeira análise. Mesmo assim, a frequência baixa de valores mais altos provavelmente não afetará os resultados do nosso modelo de regressão.\n",
    "\n",
    "Há também uma quantidade considerável de dados em que a média do consumo de energia foi 0 (zero) ao longo do dia. Esse comportamento é esperado nesse tipo de dataset, uma vez que faltas de energia que durem durante todo um dia podem ser comuns."
   ]
  },
  {
   "cell_type": "markdown",
   "metadata": {
    "id": "ue-tyjjhK2JR"
   },
   "source": [
    "### União das tabelas"
   ]
  },
  {
   "cell_type": "code",
   "execution_count": 28,
   "metadata": {
    "colab": {
     "base_uri": "https://localhost:8080/",
     "height": 568
    },
    "id": "Wc1fJN9ZK4Gi",
    "outputId": "f219ab2b-3223-4f60-de0f-17acb4b5ef97"
   },
   "outputs": [
    {
     "name": "stdout",
     "output_type": "stream",
     "text": [
      "(1534525, 42)\n"
     ]
    },
    {
     "data": {
      "text/html": [
       "<div>\n",
       "<style scoped>\n",
       "    .dataframe tbody tr th:only-of-type {\n",
       "        vertical-align: middle;\n",
       "    }\n",
       "\n",
       "    .dataframe tbody tr th {\n",
       "        vertical-align: top;\n",
       "    }\n",
       "\n",
       "    .dataframe thead th {\n",
       "        text-align: right;\n",
       "    }\n",
       "</style>\n",
       "<table border=\"1\" class=\"dataframe\">\n",
       "  <thead>\n",
       "    <tr style=\"text-align: right;\">\n",
       "      <th></th>\n",
       "      <th>LCLid</th>\n",
       "      <th>day</th>\n",
       "      <th>energy_median</th>\n",
       "      <th>energy_mean</th>\n",
       "      <th>energy_max</th>\n",
       "      <th>energy_count</th>\n",
       "      <th>energy_std</th>\n",
       "      <th>energy_sum</th>\n",
       "      <th>energy_min</th>\n",
       "      <th>date</th>\n",
       "      <th>...</th>\n",
       "      <th>temperatureHigh</th>\n",
       "      <th>sunriseTime</th>\n",
       "      <th>temperatureHighTime</th>\n",
       "      <th>uvIndexTime</th>\n",
       "      <th>summary</th>\n",
       "      <th>temperatureLowTime</th>\n",
       "      <th>apparentTemperatureMin</th>\n",
       "      <th>apparentTemperatureMaxTime</th>\n",
       "      <th>apparentTemperatureLowTime</th>\n",
       "      <th>moonPhase</th>\n",
       "    </tr>\n",
       "  </thead>\n",
       "  <tbody>\n",
       "    <tr>\n",
       "      <th>0</th>\n",
       "      <td>MAC000131</td>\n",
       "      <td>2011-12-15</td>\n",
       "      <td>0.4850</td>\n",
       "      <td>0.432045</td>\n",
       "      <td>0.868</td>\n",
       "      <td>22</td>\n",
       "      <td>0.239146</td>\n",
       "      <td>9.505</td>\n",
       "      <td>0.072</td>\n",
       "      <td>2011-12-15</td>\n",
       "      <td>...</td>\n",
       "      <td>7.97</td>\n",
       "      <td>2011-12-15 08:00:46</td>\n",
       "      <td>2011-12-15 14:00:00</td>\n",
       "      <td>2011-12-15 11:00:00</td>\n",
       "      <td>Partly cloudy throughout the day and breezy in...</td>\n",
       "      <td>2011-12-16 08:00:00</td>\n",
       "      <td>1.07</td>\n",
       "      <td>2011-12-15 21:00:00</td>\n",
       "      <td>2011-12-16 08:00:00</td>\n",
       "      <td>0.66</td>\n",
       "    </tr>\n",
       "    <tr>\n",
       "      <th>1</th>\n",
       "      <td>MAC000131</td>\n",
       "      <td>2011-12-16</td>\n",
       "      <td>0.1415</td>\n",
       "      <td>0.296167</td>\n",
       "      <td>1.116</td>\n",
       "      <td>48</td>\n",
       "      <td>0.281471</td>\n",
       "      <td>14.216</td>\n",
       "      <td>0.031</td>\n",
       "      <td>2011-12-16</td>\n",
       "      <td>...</td>\n",
       "      <td>4.53</td>\n",
       "      <td>2011-12-16 08:01:35</td>\n",
       "      <td>2011-12-16 15:00:00</td>\n",
       "      <td>2011-12-16 11:00:00</td>\n",
       "      <td>Mostly cloudy throughout the day.</td>\n",
       "      <td>2011-12-17 08:00:00</td>\n",
       "      <td>-2.65</td>\n",
       "      <td>2011-12-16 00:00:00</td>\n",
       "      <td>2011-12-17 08:00:00</td>\n",
       "      <td>0.70</td>\n",
       "    </tr>\n",
       "    <tr>\n",
       "      <th>2</th>\n",
       "      <td>MAC000131</td>\n",
       "      <td>2011-12-17</td>\n",
       "      <td>0.1015</td>\n",
       "      <td>0.189812</td>\n",
       "      <td>0.685</td>\n",
       "      <td>48</td>\n",
       "      <td>0.188405</td>\n",
       "      <td>9.111</td>\n",
       "      <td>0.064</td>\n",
       "      <td>2011-12-17</td>\n",
       "      <td>...</td>\n",
       "      <td>5.35</td>\n",
       "      <td>2011-12-17 08:02:21</td>\n",
       "      <td>2011-12-17 14:00:00</td>\n",
       "      <td>2011-12-17 11:00:00</td>\n",
       "      <td>Partly cloudy throughout the day.</td>\n",
       "      <td>2011-12-18 07:00:00</td>\n",
       "      <td>-3.56</td>\n",
       "      <td>2011-12-17 15:00:00</td>\n",
       "      <td>2011-12-18 06:00:00</td>\n",
       "      <td>0.73</td>\n",
       "    </tr>\n",
       "    <tr>\n",
       "      <th>3</th>\n",
       "      <td>MAC000131</td>\n",
       "      <td>2011-12-18</td>\n",
       "      <td>0.1140</td>\n",
       "      <td>0.218979</td>\n",
       "      <td>0.676</td>\n",
       "      <td>48</td>\n",
       "      <td>0.202919</td>\n",
       "      <td>10.511</td>\n",
       "      <td>0.065</td>\n",
       "      <td>2011-12-18</td>\n",
       "      <td>...</td>\n",
       "      <td>5.49</td>\n",
       "      <td>2011-12-18 08:03:04</td>\n",
       "      <td>2011-12-18 14:00:00</td>\n",
       "      <td>2011-12-18 12:00:00</td>\n",
       "      <td>Partly cloudy until evening.</td>\n",
       "      <td>2011-12-19 01:00:00</td>\n",
       "      <td>-4.12</td>\n",
       "      <td>2011-12-18 14:00:00</td>\n",
       "      <td>2011-12-19 02:00:00</td>\n",
       "      <td>0.77</td>\n",
       "    </tr>\n",
       "    <tr>\n",
       "      <th>4</th>\n",
       "      <td>MAC000131</td>\n",
       "      <td>2011-12-19</td>\n",
       "      <td>0.1910</td>\n",
       "      <td>0.325979</td>\n",
       "      <td>0.788</td>\n",
       "      <td>48</td>\n",
       "      <td>0.259205</td>\n",
       "      <td>15.647</td>\n",
       "      <td>0.066</td>\n",
       "      <td>2011-12-19</td>\n",
       "      <td>...</td>\n",
       "      <td>6.64</td>\n",
       "      <td>2011-12-19 08:03:43</td>\n",
       "      <td>2011-12-19 19:00:00</td>\n",
       "      <td>2011-12-19 11:00:00</td>\n",
       "      <td>Partly cloudy throughout the day.</td>\n",
       "      <td>2011-12-20 04:00:00</td>\n",
       "      <td>-3.67</td>\n",
       "      <td>2011-12-19 19:00:00</td>\n",
       "      <td>2011-12-20 08:00:00</td>\n",
       "      <td>0.81</td>\n",
       "    </tr>\n",
       "  </tbody>\n",
       "</table>\n",
       "<p>5 rows × 42 columns</p>\n",
       "</div>"
      ],
      "text/plain": [
       "       LCLid         day  energy_median  energy_mean  energy_max  \\\n",
       "0  MAC000131  2011-12-15         0.4850     0.432045       0.868   \n",
       "1  MAC000131  2011-12-16         0.1415     0.296167       1.116   \n",
       "2  MAC000131  2011-12-17         0.1015     0.189812       0.685   \n",
       "3  MAC000131  2011-12-18         0.1140     0.218979       0.676   \n",
       "4  MAC000131  2011-12-19         0.1910     0.325979       0.788   \n",
       "\n",
       "   energy_count  energy_std  energy_sum  energy_min       date  ...  \\\n",
       "0            22    0.239146       9.505       0.072 2011-12-15  ...   \n",
       "1            48    0.281471      14.216       0.031 2011-12-16  ...   \n",
       "2            48    0.188405       9.111       0.064 2011-12-17  ...   \n",
       "3            48    0.202919      10.511       0.065 2011-12-18  ...   \n",
       "4            48    0.259205      15.647       0.066 2011-12-19  ...   \n",
       "\n",
       "   temperatureHigh          sunriseTime  temperatureHighTime  \\\n",
       "0             7.97  2011-12-15 08:00:46  2011-12-15 14:00:00   \n",
       "1             4.53  2011-12-16 08:01:35  2011-12-16 15:00:00   \n",
       "2             5.35  2011-12-17 08:02:21  2011-12-17 14:00:00   \n",
       "3             5.49  2011-12-18 08:03:04  2011-12-18 14:00:00   \n",
       "4             6.64  2011-12-19 08:03:43  2011-12-19 19:00:00   \n",
       "\n",
       "           uvIndexTime                                            summary  \\\n",
       "0  2011-12-15 11:00:00  Partly cloudy throughout the day and breezy in...   \n",
       "1  2011-12-16 11:00:00                  Mostly cloudy throughout the day.   \n",
       "2  2011-12-17 11:00:00                  Partly cloudy throughout the day.   \n",
       "3  2011-12-18 12:00:00                       Partly cloudy until evening.   \n",
       "4  2011-12-19 11:00:00                  Partly cloudy throughout the day.   \n",
       "\n",
       "    temperatureLowTime  apparentTemperatureMin  apparentTemperatureMaxTime  \\\n",
       "0  2011-12-16 08:00:00                    1.07         2011-12-15 21:00:00   \n",
       "1  2011-12-17 08:00:00                   -2.65         2011-12-16 00:00:00   \n",
       "2  2011-12-18 07:00:00                   -3.56         2011-12-17 15:00:00   \n",
       "3  2011-12-19 01:00:00                   -4.12         2011-12-18 14:00:00   \n",
       "4  2011-12-20 04:00:00                   -3.67         2011-12-19 19:00:00   \n",
       "\n",
       "   apparentTemperatureLowTime moonPhase  \n",
       "0         2011-12-16 08:00:00      0.66  \n",
       "1         2011-12-17 08:00:00      0.70  \n",
       "2         2011-12-18 06:00:00      0.73  \n",
       "3         2011-12-19 02:00:00      0.77  \n",
       "4         2011-12-20 08:00:00      0.81  \n",
       "\n",
       "[5 rows x 42 columns]"
      ]
     },
     "execution_count": 28,
     "metadata": {},
     "output_type": "execute_result"
    }
   ],
   "source": [
    "df = pd.merge(energia_diario, clima_diario, on='date', how='inner')\n",
    "print(df.shape)\n",
    "df.head()"
   ]
  },
  {
   "cell_type": "markdown",
   "metadata": {
    "id": "SsqTFxcgaoQ4"
   },
   "source": [
    "### Inclusão de dados sobre Feriados em Londres\n",
    "\n",
    "No dataset, também existem informações sobre quais dias são feriados na cidade de Londres. Será adicionada uma coluna holiday na tabela, indicando se aquele dia é ou não feriado."
   ]
  },
  {
   "cell_type": "code",
   "execution_count": 29,
   "metadata": {
    "colab": {
     "base_uri": "https://localhost:8080/",
     "height": 206
    },
    "id": "EYQwftfRfQwM",
    "outputId": "7906c8cd-9b55-49af-d6fd-55ecb8d7c456"
   },
   "outputs": [
    {
     "data": {
      "text/html": [
       "<div>\n",
       "<style scoped>\n",
       "    .dataframe tbody tr th:only-of-type {\n",
       "        vertical-align: middle;\n",
       "    }\n",
       "\n",
       "    .dataframe tbody tr th {\n",
       "        vertical-align: top;\n",
       "    }\n",
       "\n",
       "    .dataframe thead th {\n",
       "        text-align: right;\n",
       "    }\n",
       "</style>\n",
       "<table border=\"1\" class=\"dataframe\">\n",
       "  <thead>\n",
       "    <tr style=\"text-align: right;\">\n",
       "      <th></th>\n",
       "      <th>Bank holidays</th>\n",
       "      <th>Type</th>\n",
       "      <th>date</th>\n",
       "      <th>is_holiday</th>\n",
       "    </tr>\n",
       "  </thead>\n",
       "  <tbody>\n",
       "    <tr>\n",
       "      <th>0</th>\n",
       "      <td>2012-12-26</td>\n",
       "      <td>Boxing Day</td>\n",
       "      <td>2012-12-26</td>\n",
       "      <td>1</td>\n",
       "    </tr>\n",
       "    <tr>\n",
       "      <th>1</th>\n",
       "      <td>2012-12-25</td>\n",
       "      <td>Christmas Day</td>\n",
       "      <td>2012-12-25</td>\n",
       "      <td>1</td>\n",
       "    </tr>\n",
       "    <tr>\n",
       "      <th>2</th>\n",
       "      <td>2012-08-27</td>\n",
       "      <td>Summer bank holiday</td>\n",
       "      <td>2012-08-27</td>\n",
       "      <td>1</td>\n",
       "    </tr>\n",
       "    <tr>\n",
       "      <th>3</th>\n",
       "      <td>2012-05-06</td>\n",
       "      <td>Queen?s Diamond Jubilee (extra bank holiday)</td>\n",
       "      <td>2012-05-06</td>\n",
       "      <td>1</td>\n",
       "    </tr>\n",
       "    <tr>\n",
       "      <th>4</th>\n",
       "      <td>2012-04-06</td>\n",
       "      <td>Spring bank holiday (substitute day)</td>\n",
       "      <td>2012-04-06</td>\n",
       "      <td>1</td>\n",
       "    </tr>\n",
       "  </tbody>\n",
       "</table>\n",
       "</div>"
      ],
      "text/plain": [
       "  Bank holidays                                          Type       date  \\\n",
       "0    2012-12-26                                    Boxing Day 2012-12-26   \n",
       "1    2012-12-25                                 Christmas Day 2012-12-25   \n",
       "2    2012-08-27                           Summer bank holiday 2012-08-27   \n",
       "3    2012-05-06  Queen?s Diamond Jubilee (extra bank holiday) 2012-05-06   \n",
       "4    2012-04-06          Spring bank holiday (substitute day) 2012-04-06   \n",
       "\n",
       "   is_holiday  \n",
       "0           1  \n",
       "1           1  \n",
       "2           1  \n",
       "3           1  \n",
       "4           1  "
      ]
     },
     "execution_count": 29,
     "metadata": {},
     "output_type": "execute_result"
    }
   ],
   "source": [
    "feriados['is_holiday'] = 1\n",
    "feriados.head()"
   ]
  },
  {
   "cell_type": "code",
   "execution_count": 30,
   "metadata": {
    "colab": {
     "base_uri": "https://localhost:8080/"
    },
    "id": "bxDXMEJSesyk",
    "outputId": "39046234-976e-4928-c734-31896f9c0aa1"
   },
   "outputs": [
    {
     "name": "stdout",
     "output_type": "stream",
     "text": [
      "Dias sem feriados: 1496297\n",
      "Dias com feriado: 38228\n"
     ]
    }
   ],
   "source": [
    "df = pd.merge(df, feriados, on='date', how='left')\n",
    "df.drop(columns=['Bank holidays', 'Type'], inplace=True)\n",
    "df['is_holiday'] = df['is_holiday'].fillna(0)\n",
    "\n",
    "count_zero = (df['is_holiday'] == 0).sum()\n",
    "count_one = (df['is_holiday'] == 1).sum()\n",
    "\n",
    "print(f\"Dias sem feriados: {count_zero}\")\n",
    "print(f\"Dias com feriado: {count_one}\")"
   ]
  },
  {
   "cell_type": "markdown",
   "metadata": {
    "id": "LuhxFHfDm_OC"
   },
   "source": [
    "### Remoção dos dados com informação duplicada"
   ]
  },
  {
   "cell_type": "code",
   "execution_count": 31,
   "metadata": {
    "colab": {
     "base_uri": "https://localhost:8080/",
     "height": 424
    },
    "id": "nFEzw8aSm_OD",
    "outputId": "a0ee89fb-abff-49fa-caa0-4703c59b7ab6"
   },
   "outputs": [
    {
     "data": {
      "text/html": [
       "<div>\n",
       "<style scoped>\n",
       "    .dataframe tbody tr th:only-of-type {\n",
       "        vertical-align: middle;\n",
       "    }\n",
       "\n",
       "    .dataframe tbody tr th {\n",
       "        vertical-align: top;\n",
       "    }\n",
       "\n",
       "    .dataframe thead th {\n",
       "        text-align: right;\n",
       "    }\n",
       "</style>\n",
       "<table border=\"1\" class=\"dataframe\">\n",
       "  <thead>\n",
       "    <tr style=\"text-align: right;\">\n",
       "      <th></th>\n",
       "      <th>date</th>\n",
       "      <th>time</th>\n",
       "      <th>day</th>\n",
       "    </tr>\n",
       "  </thead>\n",
       "  <tbody>\n",
       "    <tr>\n",
       "      <th>0</th>\n",
       "      <td>2011-12-15</td>\n",
       "      <td>2011-12-15 00:00:00</td>\n",
       "      <td>2011-12-15</td>\n",
       "    </tr>\n",
       "    <tr>\n",
       "      <th>1</th>\n",
       "      <td>2011-12-16</td>\n",
       "      <td>2011-12-16 00:00:00</td>\n",
       "      <td>2011-12-16</td>\n",
       "    </tr>\n",
       "    <tr>\n",
       "      <th>2</th>\n",
       "      <td>2011-12-17</td>\n",
       "      <td>2011-12-17 00:00:00</td>\n",
       "      <td>2011-12-17</td>\n",
       "    </tr>\n",
       "    <tr>\n",
       "      <th>3</th>\n",
       "      <td>2011-12-18</td>\n",
       "      <td>2011-12-18 00:00:00</td>\n",
       "      <td>2011-12-18</td>\n",
       "    </tr>\n",
       "    <tr>\n",
       "      <th>4</th>\n",
       "      <td>2011-12-19</td>\n",
       "      <td>2011-12-19 00:00:00</td>\n",
       "      <td>2011-12-19</td>\n",
       "    </tr>\n",
       "    <tr>\n",
       "      <th>...</th>\n",
       "      <td>...</td>\n",
       "      <td>...</td>\n",
       "      <td>...</td>\n",
       "    </tr>\n",
       "    <tr>\n",
       "      <th>1534520</th>\n",
       "      <td>2014-02-23</td>\n",
       "      <td>2014-02-23 00:00:00</td>\n",
       "      <td>2014-02-23</td>\n",
       "    </tr>\n",
       "    <tr>\n",
       "      <th>1534521</th>\n",
       "      <td>2014-02-24</td>\n",
       "      <td>2014-02-24 00:00:00</td>\n",
       "      <td>2014-02-24</td>\n",
       "    </tr>\n",
       "    <tr>\n",
       "      <th>1534522</th>\n",
       "      <td>2014-02-25</td>\n",
       "      <td>2014-02-25 00:00:00</td>\n",
       "      <td>2014-02-25</td>\n",
       "    </tr>\n",
       "    <tr>\n",
       "      <th>1534523</th>\n",
       "      <td>2014-02-26</td>\n",
       "      <td>2014-02-26 00:00:00</td>\n",
       "      <td>2014-02-26</td>\n",
       "    </tr>\n",
       "    <tr>\n",
       "      <th>1534524</th>\n",
       "      <td>2014-02-27</td>\n",
       "      <td>2014-02-27 00:00:00</td>\n",
       "      <td>2014-02-27</td>\n",
       "    </tr>\n",
       "  </tbody>\n",
       "</table>\n",
       "<p>1534525 rows × 3 columns</p>\n",
       "</div>"
      ],
      "text/plain": [
       "              date                 time         day\n",
       "0       2011-12-15  2011-12-15 00:00:00  2011-12-15\n",
       "1       2011-12-16  2011-12-16 00:00:00  2011-12-16\n",
       "2       2011-12-17  2011-12-17 00:00:00  2011-12-17\n",
       "3       2011-12-18  2011-12-18 00:00:00  2011-12-18\n",
       "4       2011-12-19  2011-12-19 00:00:00  2011-12-19\n",
       "...            ...                  ...         ...\n",
       "1534520 2014-02-23  2014-02-23 00:00:00  2014-02-23\n",
       "1534521 2014-02-24  2014-02-24 00:00:00  2014-02-24\n",
       "1534522 2014-02-25  2014-02-25 00:00:00  2014-02-25\n",
       "1534523 2014-02-26  2014-02-26 00:00:00  2014-02-26\n",
       "1534524 2014-02-27  2014-02-27 00:00:00  2014-02-27\n",
       "\n",
       "[1534525 rows x 3 columns]"
      ]
     },
     "execution_count": 31,
     "metadata": {},
     "output_type": "execute_result"
    }
   ],
   "source": [
    "df[['date', 'time', 'day']]"
   ]
  },
  {
   "cell_type": "code",
   "execution_count": 32,
   "metadata": {
    "id": "d4SunbWvm_OD"
   },
   "outputs": [],
   "source": [
    "df.drop(columns=['day', 'time'], inplace=True)"
   ]
  },
  {
   "cell_type": "code",
   "execution_count": 33,
   "metadata": {
    "colab": {
     "base_uri": "https://localhost:8080/",
     "height": 551
    },
    "id": "UgEqmBjqfcH6",
    "outputId": "7a0c2a24-58ab-4a7b-9f19-ddabfb54c2a8"
   },
   "outputs": [
    {
     "data": {
      "text/html": [
       "<div>\n",
       "<style scoped>\n",
       "    .dataframe tbody tr th:only-of-type {\n",
       "        vertical-align: middle;\n",
       "    }\n",
       "\n",
       "    .dataframe tbody tr th {\n",
       "        vertical-align: top;\n",
       "    }\n",
       "\n",
       "    .dataframe thead th {\n",
       "        text-align: right;\n",
       "    }\n",
       "</style>\n",
       "<table border=\"1\" class=\"dataframe\">\n",
       "  <thead>\n",
       "    <tr style=\"text-align: right;\">\n",
       "      <th></th>\n",
       "      <th>LCLid</th>\n",
       "      <th>energy_median</th>\n",
       "      <th>energy_mean</th>\n",
       "      <th>energy_max</th>\n",
       "      <th>energy_count</th>\n",
       "      <th>energy_std</th>\n",
       "      <th>energy_sum</th>\n",
       "      <th>energy_min</th>\n",
       "      <th>date</th>\n",
       "      <th>temperatureMax</th>\n",
       "      <th>...</th>\n",
       "      <th>sunriseTime</th>\n",
       "      <th>temperatureHighTime</th>\n",
       "      <th>uvIndexTime</th>\n",
       "      <th>summary</th>\n",
       "      <th>temperatureLowTime</th>\n",
       "      <th>apparentTemperatureMin</th>\n",
       "      <th>apparentTemperatureMaxTime</th>\n",
       "      <th>apparentTemperatureLowTime</th>\n",
       "      <th>moonPhase</th>\n",
       "      <th>is_holiday</th>\n",
       "    </tr>\n",
       "  </thead>\n",
       "  <tbody>\n",
       "    <tr>\n",
       "      <th>0</th>\n",
       "      <td>MAC000131</td>\n",
       "      <td>0.4850</td>\n",
       "      <td>0.432045</td>\n",
       "      <td>0.868</td>\n",
       "      <td>22</td>\n",
       "      <td>0.239146</td>\n",
       "      <td>9.505</td>\n",
       "      <td>0.072</td>\n",
       "      <td>2011-12-15</td>\n",
       "      <td>7.97</td>\n",
       "      <td>...</td>\n",
       "      <td>2011-12-15 08:00:46</td>\n",
       "      <td>2011-12-15 14:00:00</td>\n",
       "      <td>2011-12-15 11:00:00</td>\n",
       "      <td>Partly cloudy throughout the day and breezy in...</td>\n",
       "      <td>2011-12-16 08:00:00</td>\n",
       "      <td>1.07</td>\n",
       "      <td>2011-12-15 21:00:00</td>\n",
       "      <td>2011-12-16 08:00:00</td>\n",
       "      <td>0.66</td>\n",
       "      <td>0.0</td>\n",
       "    </tr>\n",
       "    <tr>\n",
       "      <th>1</th>\n",
       "      <td>MAC000131</td>\n",
       "      <td>0.1415</td>\n",
       "      <td>0.296167</td>\n",
       "      <td>1.116</td>\n",
       "      <td>48</td>\n",
       "      <td>0.281471</td>\n",
       "      <td>14.216</td>\n",
       "      <td>0.031</td>\n",
       "      <td>2011-12-16</td>\n",
       "      <td>4.68</td>\n",
       "      <td>...</td>\n",
       "      <td>2011-12-16 08:01:35</td>\n",
       "      <td>2011-12-16 15:00:00</td>\n",
       "      <td>2011-12-16 11:00:00</td>\n",
       "      <td>Mostly cloudy throughout the day.</td>\n",
       "      <td>2011-12-17 08:00:00</td>\n",
       "      <td>-2.65</td>\n",
       "      <td>2011-12-16 00:00:00</td>\n",
       "      <td>2011-12-17 08:00:00</td>\n",
       "      <td>0.70</td>\n",
       "      <td>0.0</td>\n",
       "    </tr>\n",
       "    <tr>\n",
       "      <th>2</th>\n",
       "      <td>MAC000131</td>\n",
       "      <td>0.1015</td>\n",
       "      <td>0.189812</td>\n",
       "      <td>0.685</td>\n",
       "      <td>48</td>\n",
       "      <td>0.188405</td>\n",
       "      <td>9.111</td>\n",
       "      <td>0.064</td>\n",
       "      <td>2011-12-17</td>\n",
       "      <td>5.35</td>\n",
       "      <td>...</td>\n",
       "      <td>2011-12-17 08:02:21</td>\n",
       "      <td>2011-12-17 14:00:00</td>\n",
       "      <td>2011-12-17 11:00:00</td>\n",
       "      <td>Partly cloudy throughout the day.</td>\n",
       "      <td>2011-12-18 07:00:00</td>\n",
       "      <td>-3.56</td>\n",
       "      <td>2011-12-17 15:00:00</td>\n",
       "      <td>2011-12-18 06:00:00</td>\n",
       "      <td>0.73</td>\n",
       "      <td>0.0</td>\n",
       "    </tr>\n",
       "    <tr>\n",
       "      <th>3</th>\n",
       "      <td>MAC000131</td>\n",
       "      <td>0.1140</td>\n",
       "      <td>0.218979</td>\n",
       "      <td>0.676</td>\n",
       "      <td>48</td>\n",
       "      <td>0.202919</td>\n",
       "      <td>10.511</td>\n",
       "      <td>0.065</td>\n",
       "      <td>2011-12-18</td>\n",
       "      <td>5.49</td>\n",
       "      <td>...</td>\n",
       "      <td>2011-12-18 08:03:04</td>\n",
       "      <td>2011-12-18 14:00:00</td>\n",
       "      <td>2011-12-18 12:00:00</td>\n",
       "      <td>Partly cloudy until evening.</td>\n",
       "      <td>2011-12-19 01:00:00</td>\n",
       "      <td>-4.12</td>\n",
       "      <td>2011-12-18 14:00:00</td>\n",
       "      <td>2011-12-19 02:00:00</td>\n",
       "      <td>0.77</td>\n",
       "      <td>0.0</td>\n",
       "    </tr>\n",
       "    <tr>\n",
       "      <th>4</th>\n",
       "      <td>MAC000131</td>\n",
       "      <td>0.1910</td>\n",
       "      <td>0.325979</td>\n",
       "      <td>0.788</td>\n",
       "      <td>48</td>\n",
       "      <td>0.259205</td>\n",
       "      <td>15.647</td>\n",
       "      <td>0.066</td>\n",
       "      <td>2011-12-19</td>\n",
       "      <td>6.64</td>\n",
       "      <td>...</td>\n",
       "      <td>2011-12-19 08:03:43</td>\n",
       "      <td>2011-12-19 19:00:00</td>\n",
       "      <td>2011-12-19 11:00:00</td>\n",
       "      <td>Partly cloudy throughout the day.</td>\n",
       "      <td>2011-12-20 04:00:00</td>\n",
       "      <td>-3.67</td>\n",
       "      <td>2011-12-19 19:00:00</td>\n",
       "      <td>2011-12-20 08:00:00</td>\n",
       "      <td>0.81</td>\n",
       "      <td>0.0</td>\n",
       "    </tr>\n",
       "  </tbody>\n",
       "</table>\n",
       "<p>5 rows × 41 columns</p>\n",
       "</div>"
      ],
      "text/plain": [
       "       LCLid  energy_median  energy_mean  energy_max  energy_count  \\\n",
       "0  MAC000131         0.4850     0.432045       0.868            22   \n",
       "1  MAC000131         0.1415     0.296167       1.116            48   \n",
       "2  MAC000131         0.1015     0.189812       0.685            48   \n",
       "3  MAC000131         0.1140     0.218979       0.676            48   \n",
       "4  MAC000131         0.1910     0.325979       0.788            48   \n",
       "\n",
       "   energy_std  energy_sum  energy_min       date  temperatureMax  ...  \\\n",
       "0    0.239146       9.505       0.072 2011-12-15            7.97  ...   \n",
       "1    0.281471      14.216       0.031 2011-12-16            4.68  ...   \n",
       "2    0.188405       9.111       0.064 2011-12-17            5.35  ...   \n",
       "3    0.202919      10.511       0.065 2011-12-18            5.49  ...   \n",
       "4    0.259205      15.647       0.066 2011-12-19            6.64  ...   \n",
       "\n",
       "           sunriseTime  temperatureHighTime          uvIndexTime  \\\n",
       "0  2011-12-15 08:00:46  2011-12-15 14:00:00  2011-12-15 11:00:00   \n",
       "1  2011-12-16 08:01:35  2011-12-16 15:00:00  2011-12-16 11:00:00   \n",
       "2  2011-12-17 08:02:21  2011-12-17 14:00:00  2011-12-17 11:00:00   \n",
       "3  2011-12-18 08:03:04  2011-12-18 14:00:00  2011-12-18 12:00:00   \n",
       "4  2011-12-19 08:03:43  2011-12-19 19:00:00  2011-12-19 11:00:00   \n",
       "\n",
       "                                             summary   temperatureLowTime  \\\n",
       "0  Partly cloudy throughout the day and breezy in...  2011-12-16 08:00:00   \n",
       "1                  Mostly cloudy throughout the day.  2011-12-17 08:00:00   \n",
       "2                  Partly cloudy throughout the day.  2011-12-18 07:00:00   \n",
       "3                       Partly cloudy until evening.  2011-12-19 01:00:00   \n",
       "4                  Partly cloudy throughout the day.  2011-12-20 04:00:00   \n",
       "\n",
       "   apparentTemperatureMin  apparentTemperatureMaxTime  \\\n",
       "0                    1.07         2011-12-15 21:00:00   \n",
       "1                   -2.65         2011-12-16 00:00:00   \n",
       "2                   -3.56         2011-12-17 15:00:00   \n",
       "3                   -4.12         2011-12-18 14:00:00   \n",
       "4                   -3.67         2011-12-19 19:00:00   \n",
       "\n",
       "   apparentTemperatureLowTime moonPhase  is_holiday  \n",
       "0         2011-12-16 08:00:00      0.66         0.0  \n",
       "1         2011-12-17 08:00:00      0.70         0.0  \n",
       "2         2011-12-18 06:00:00      0.73         0.0  \n",
       "3         2011-12-19 02:00:00      0.77         0.0  \n",
       "4         2011-12-20 08:00:00      0.81         0.0  \n",
       "\n",
       "[5 rows x 41 columns]"
      ]
     },
     "execution_count": 33,
     "metadata": {},
     "output_type": "execute_result"
    }
   ],
   "source": [
    "df.head()"
   ]
  },
  {
   "cell_type": "markdown",
   "metadata": {
    "id": "6LOzuSVKSszI"
   },
   "source": [
    "Nossa feature target será a energia consumida ao longo de um dia (energy_sum). O restante das colunas será utilizado para treino, após redução de dimensionalidade através de PCA."
   ]
  },
  {
   "cell_type": "code",
   "execution_count": 34,
   "metadata": {
    "id": "eWZXGgXETgWV"
   },
   "outputs": [],
   "source": [
    "X = df.drop(columns=['energy_sum']).select_dtypes(include=['int64', 'float64'])\n",
    "Y = df['energy_sum']\n",
    "\n",
    "scaler = StandardScaler()\n",
    "X_normalizado = scaler.fit_transform(X)"
   ]
  },
  {
   "cell_type": "markdown",
   "metadata": {
    "id": "79Na-5J9VgS7"
   },
   "source": [
    "## Treino Inicial de modelos de Machine Learning"
   ]
  },
  {
   "cell_type": "markdown",
   "metadata": {
    "id": "4NdULyfbIHmo"
   },
   "source": [
    "### PCA\n"
   ]
  },
  {
   "cell_type": "markdown",
   "metadata": {
    "id": "QRCF9N90Kiia"
   },
   "source": [
    "Ao invés de remover colunas fortemente correlacionadas de forma manual, será aplicado o alogritmo PCA para diminuir a dimensão do conjunto de dados."
   ]
  },
  {
   "cell_type": "code",
   "execution_count": 35,
   "metadata": {
    "colab": {
     "base_uri": "https://localhost:8080/"
    },
    "id": "6btcsEFZVC1a",
    "outputId": "11afe68b-8c1e-4047-8433-eacefa681bde"
   },
   "outputs": [
    {
     "name": "stdout",
     "output_type": "stream",
     "text": [
      "Componentes depois da análise PCA: 13\n"
     ]
    }
   ],
   "source": [
    "pca = PCA(n_components=0.95)\n",
    "X_pca = pca.fit_transform(X_normalizado)\n",
    "print(\"Componentes depois da análise PCA:\", X_pca.shape[1])"
   ]
  },
  {
   "cell_type": "markdown",
   "metadata": {
    "id": "XFQMWboCWArp"
   },
   "source": [
    "### Árvore de Decisão com PCA"
   ]
  },
  {
   "cell_type": "markdown",
   "metadata": {
    "id": "W0hCLTGRVaoq"
   },
   "source": [
    "### Divisão das amostras de treino e teste"
   ]
  },
  {
   "cell_type": "code",
   "execution_count": 36,
   "metadata": {
    "id": "Hu9zROFmVZl0"
   },
   "outputs": [],
   "source": [
    "X_train, X_test, Y_train, Y_test = train_test_split(X_pca, Y, test_size=0.3, random_state=777)"
   ]
  },
  {
   "cell_type": "code",
   "execution_count": 37,
   "metadata": {
    "colab": {
     "base_uri": "https://localhost:8080/",
     "height": 80
    },
    "id": "ZHevrVQZYRmo",
    "outputId": "f08782e7-6213-47c8-c181-24fc96674cea"
   },
   "outputs": [
    {
     "data": {
      "text/html": [
       "<style>#sk-container-id-1 {\n",
       "  /* Definition of color scheme common for light and dark mode */\n",
       "  --sklearn-color-text: black;\n",
       "  --sklearn-color-line: gray;\n",
       "  /* Definition of color scheme for unfitted estimators */\n",
       "  --sklearn-color-unfitted-level-0: #fff5e6;\n",
       "  --sklearn-color-unfitted-level-1: #f6e4d2;\n",
       "  --sklearn-color-unfitted-level-2: #ffe0b3;\n",
       "  --sklearn-color-unfitted-level-3: chocolate;\n",
       "  /* Definition of color scheme for fitted estimators */\n",
       "  --sklearn-color-fitted-level-0: #f0f8ff;\n",
       "  --sklearn-color-fitted-level-1: #d4ebff;\n",
       "  --sklearn-color-fitted-level-2: #b3dbfd;\n",
       "  --sklearn-color-fitted-level-3: cornflowerblue;\n",
       "\n",
       "  /* Specific color for light theme */\n",
       "  --sklearn-color-text-on-default-background: var(--sg-text-color, var(--theme-code-foreground, var(--jp-content-font-color1, black)));\n",
       "  --sklearn-color-background: var(--sg-background-color, var(--theme-background, var(--jp-layout-color0, white)));\n",
       "  --sklearn-color-border-box: var(--sg-text-color, var(--theme-code-foreground, var(--jp-content-font-color1, black)));\n",
       "  --sklearn-color-icon: #696969;\n",
       "\n",
       "  @media (prefers-color-scheme: dark) {\n",
       "    /* Redefinition of color scheme for dark theme */\n",
       "    --sklearn-color-text-on-default-background: var(--sg-text-color, var(--theme-code-foreground, var(--jp-content-font-color1, white)));\n",
       "    --sklearn-color-background: var(--sg-background-color, var(--theme-background, var(--jp-layout-color0, #111)));\n",
       "    --sklearn-color-border-box: var(--sg-text-color, var(--theme-code-foreground, var(--jp-content-font-color1, white)));\n",
       "    --sklearn-color-icon: #878787;\n",
       "  }\n",
       "}\n",
       "\n",
       "#sk-container-id-1 {\n",
       "  color: var(--sklearn-color-text);\n",
       "}\n",
       "\n",
       "#sk-container-id-1 pre {\n",
       "  padding: 0;\n",
       "}\n",
       "\n",
       "#sk-container-id-1 input.sk-hidden--visually {\n",
       "  border: 0;\n",
       "  clip: rect(1px 1px 1px 1px);\n",
       "  clip: rect(1px, 1px, 1px, 1px);\n",
       "  height: 1px;\n",
       "  margin: -1px;\n",
       "  overflow: hidden;\n",
       "  padding: 0;\n",
       "  position: absolute;\n",
       "  width: 1px;\n",
       "}\n",
       "\n",
       "#sk-container-id-1 div.sk-dashed-wrapped {\n",
       "  border: 1px dashed var(--sklearn-color-line);\n",
       "  margin: 0 0.4em 0.5em 0.4em;\n",
       "  box-sizing: border-box;\n",
       "  padding-bottom: 0.4em;\n",
       "  background-color: var(--sklearn-color-background);\n",
       "}\n",
       "\n",
       "#sk-container-id-1 div.sk-container {\n",
       "  /* jupyter's `normalize.less` sets `[hidden] { display: none; }`\n",
       "     but bootstrap.min.css set `[hidden] { display: none !important; }`\n",
       "     so we also need the `!important` here to be able to override the\n",
       "     default hidden behavior on the sphinx rendered scikit-learn.org.\n",
       "     See: https://github.com/scikit-learn/scikit-learn/issues/21755 */\n",
       "  display: inline-block !important;\n",
       "  position: relative;\n",
       "}\n",
       "\n",
       "#sk-container-id-1 div.sk-text-repr-fallback {\n",
       "  display: none;\n",
       "}\n",
       "\n",
       "div.sk-parallel-item,\n",
       "div.sk-serial,\n",
       "div.sk-item {\n",
       "  /* draw centered vertical line to link estimators */\n",
       "  background-image: linear-gradient(var(--sklearn-color-text-on-default-background), var(--sklearn-color-text-on-default-background));\n",
       "  background-size: 2px 100%;\n",
       "  background-repeat: no-repeat;\n",
       "  background-position: center center;\n",
       "}\n",
       "\n",
       "/* Parallel-specific style estimator block */\n",
       "\n",
       "#sk-container-id-1 div.sk-parallel-item::after {\n",
       "  content: \"\";\n",
       "  width: 100%;\n",
       "  border-bottom: 2px solid var(--sklearn-color-text-on-default-background);\n",
       "  flex-grow: 1;\n",
       "}\n",
       "\n",
       "#sk-container-id-1 div.sk-parallel {\n",
       "  display: flex;\n",
       "  align-items: stretch;\n",
       "  justify-content: center;\n",
       "  background-color: var(--sklearn-color-background);\n",
       "  position: relative;\n",
       "}\n",
       "\n",
       "#sk-container-id-1 div.sk-parallel-item {\n",
       "  display: flex;\n",
       "  flex-direction: column;\n",
       "}\n",
       "\n",
       "#sk-container-id-1 div.sk-parallel-item:first-child::after {\n",
       "  align-self: flex-end;\n",
       "  width: 50%;\n",
       "}\n",
       "\n",
       "#sk-container-id-1 div.sk-parallel-item:last-child::after {\n",
       "  align-self: flex-start;\n",
       "  width: 50%;\n",
       "}\n",
       "\n",
       "#sk-container-id-1 div.sk-parallel-item:only-child::after {\n",
       "  width: 0;\n",
       "}\n",
       "\n",
       "/* Serial-specific style estimator block */\n",
       "\n",
       "#sk-container-id-1 div.sk-serial {\n",
       "  display: flex;\n",
       "  flex-direction: column;\n",
       "  align-items: center;\n",
       "  background-color: var(--sklearn-color-background);\n",
       "  padding-right: 1em;\n",
       "  padding-left: 1em;\n",
       "}\n",
       "\n",
       "\n",
       "/* Toggleable style: style used for estimator/Pipeline/ColumnTransformer box that is\n",
       "clickable and can be expanded/collapsed.\n",
       "- Pipeline and ColumnTransformer use this feature and define the default style\n",
       "- Estimators will overwrite some part of the style using the `sk-estimator` class\n",
       "*/\n",
       "\n",
       "/* Pipeline and ColumnTransformer style (default) */\n",
       "\n",
       "#sk-container-id-1 div.sk-toggleable {\n",
       "  /* Default theme specific background. It is overwritten whether we have a\n",
       "  specific estimator or a Pipeline/ColumnTransformer */\n",
       "  background-color: var(--sklearn-color-background);\n",
       "}\n",
       "\n",
       "/* Toggleable label */\n",
       "#sk-container-id-1 label.sk-toggleable__label {\n",
       "  cursor: pointer;\n",
       "  display: block;\n",
       "  width: 100%;\n",
       "  margin-bottom: 0;\n",
       "  padding: 0.5em;\n",
       "  box-sizing: border-box;\n",
       "  text-align: center;\n",
       "}\n",
       "\n",
       "#sk-container-id-1 label.sk-toggleable__label-arrow:before {\n",
       "  /* Arrow on the left of the label */\n",
       "  content: \"▸\";\n",
       "  float: left;\n",
       "  margin-right: 0.25em;\n",
       "  color: var(--sklearn-color-icon);\n",
       "}\n",
       "\n",
       "#sk-container-id-1 label.sk-toggleable__label-arrow:hover:before {\n",
       "  color: var(--sklearn-color-text);\n",
       "}\n",
       "\n",
       "/* Toggleable content - dropdown */\n",
       "\n",
       "#sk-container-id-1 div.sk-toggleable__content {\n",
       "  max-height: 0;\n",
       "  max-width: 0;\n",
       "  overflow: hidden;\n",
       "  text-align: left;\n",
       "  /* unfitted */\n",
       "  background-color: var(--sklearn-color-unfitted-level-0);\n",
       "}\n",
       "\n",
       "#sk-container-id-1 div.sk-toggleable__content.fitted {\n",
       "  /* fitted */\n",
       "  background-color: var(--sklearn-color-fitted-level-0);\n",
       "}\n",
       "\n",
       "#sk-container-id-1 div.sk-toggleable__content pre {\n",
       "  margin: 0.2em;\n",
       "  border-radius: 0.25em;\n",
       "  color: var(--sklearn-color-text);\n",
       "  /* unfitted */\n",
       "  background-color: var(--sklearn-color-unfitted-level-0);\n",
       "}\n",
       "\n",
       "#sk-container-id-1 div.sk-toggleable__content.fitted pre {\n",
       "  /* unfitted */\n",
       "  background-color: var(--sklearn-color-fitted-level-0);\n",
       "}\n",
       "\n",
       "#sk-container-id-1 input.sk-toggleable__control:checked~div.sk-toggleable__content {\n",
       "  /* Expand drop-down */\n",
       "  max-height: 200px;\n",
       "  max-width: 100%;\n",
       "  overflow: auto;\n",
       "}\n",
       "\n",
       "#sk-container-id-1 input.sk-toggleable__control:checked~label.sk-toggleable__label-arrow:before {\n",
       "  content: \"▾\";\n",
       "}\n",
       "\n",
       "/* Pipeline/ColumnTransformer-specific style */\n",
       "\n",
       "#sk-container-id-1 div.sk-label input.sk-toggleable__control:checked~label.sk-toggleable__label {\n",
       "  color: var(--sklearn-color-text);\n",
       "  background-color: var(--sklearn-color-unfitted-level-2);\n",
       "}\n",
       "\n",
       "#sk-container-id-1 div.sk-label.fitted input.sk-toggleable__control:checked~label.sk-toggleable__label {\n",
       "  background-color: var(--sklearn-color-fitted-level-2);\n",
       "}\n",
       "\n",
       "/* Estimator-specific style */\n",
       "\n",
       "/* Colorize estimator box */\n",
       "#sk-container-id-1 div.sk-estimator input.sk-toggleable__control:checked~label.sk-toggleable__label {\n",
       "  /* unfitted */\n",
       "  background-color: var(--sklearn-color-unfitted-level-2);\n",
       "}\n",
       "\n",
       "#sk-container-id-1 div.sk-estimator.fitted input.sk-toggleable__control:checked~label.sk-toggleable__label {\n",
       "  /* fitted */\n",
       "  background-color: var(--sklearn-color-fitted-level-2);\n",
       "}\n",
       "\n",
       "#sk-container-id-1 div.sk-label label.sk-toggleable__label,\n",
       "#sk-container-id-1 div.sk-label label {\n",
       "  /* The background is the default theme color */\n",
       "  color: var(--sklearn-color-text-on-default-background);\n",
       "}\n",
       "\n",
       "/* On hover, darken the color of the background */\n",
       "#sk-container-id-1 div.sk-label:hover label.sk-toggleable__label {\n",
       "  color: var(--sklearn-color-text);\n",
       "  background-color: var(--sklearn-color-unfitted-level-2);\n",
       "}\n",
       "\n",
       "/* Label box, darken color on hover, fitted */\n",
       "#sk-container-id-1 div.sk-label.fitted:hover label.sk-toggleable__label.fitted {\n",
       "  color: var(--sklearn-color-text);\n",
       "  background-color: var(--sklearn-color-fitted-level-2);\n",
       "}\n",
       "\n",
       "/* Estimator label */\n",
       "\n",
       "#sk-container-id-1 div.sk-label label {\n",
       "  font-family: monospace;\n",
       "  font-weight: bold;\n",
       "  display: inline-block;\n",
       "  line-height: 1.2em;\n",
       "}\n",
       "\n",
       "#sk-container-id-1 div.sk-label-container {\n",
       "  text-align: center;\n",
       "}\n",
       "\n",
       "/* Estimator-specific */\n",
       "#sk-container-id-1 div.sk-estimator {\n",
       "  font-family: monospace;\n",
       "  border: 1px dotted var(--sklearn-color-border-box);\n",
       "  border-radius: 0.25em;\n",
       "  box-sizing: border-box;\n",
       "  margin-bottom: 0.5em;\n",
       "  /* unfitted */\n",
       "  background-color: var(--sklearn-color-unfitted-level-0);\n",
       "}\n",
       "\n",
       "#sk-container-id-1 div.sk-estimator.fitted {\n",
       "  /* fitted */\n",
       "  background-color: var(--sklearn-color-fitted-level-0);\n",
       "}\n",
       "\n",
       "/* on hover */\n",
       "#sk-container-id-1 div.sk-estimator:hover {\n",
       "  /* unfitted */\n",
       "  background-color: var(--sklearn-color-unfitted-level-2);\n",
       "}\n",
       "\n",
       "#sk-container-id-1 div.sk-estimator.fitted:hover {\n",
       "  /* fitted */\n",
       "  background-color: var(--sklearn-color-fitted-level-2);\n",
       "}\n",
       "\n",
       "/* Specification for estimator info (e.g. \"i\" and \"?\") */\n",
       "\n",
       "/* Common style for \"i\" and \"?\" */\n",
       "\n",
       ".sk-estimator-doc-link,\n",
       "a:link.sk-estimator-doc-link,\n",
       "a:visited.sk-estimator-doc-link {\n",
       "  float: right;\n",
       "  font-size: smaller;\n",
       "  line-height: 1em;\n",
       "  font-family: monospace;\n",
       "  background-color: var(--sklearn-color-background);\n",
       "  border-radius: 1em;\n",
       "  height: 1em;\n",
       "  width: 1em;\n",
       "  text-decoration: none !important;\n",
       "  margin-left: 1ex;\n",
       "  /* unfitted */\n",
       "  border: var(--sklearn-color-unfitted-level-1) 1pt solid;\n",
       "  color: var(--sklearn-color-unfitted-level-1);\n",
       "}\n",
       "\n",
       ".sk-estimator-doc-link.fitted,\n",
       "a:link.sk-estimator-doc-link.fitted,\n",
       "a:visited.sk-estimator-doc-link.fitted {\n",
       "  /* fitted */\n",
       "  border: var(--sklearn-color-fitted-level-1) 1pt solid;\n",
       "  color: var(--sklearn-color-fitted-level-1);\n",
       "}\n",
       "\n",
       "/* On hover */\n",
       "div.sk-estimator:hover .sk-estimator-doc-link:hover,\n",
       ".sk-estimator-doc-link:hover,\n",
       "div.sk-label-container:hover .sk-estimator-doc-link:hover,\n",
       ".sk-estimator-doc-link:hover {\n",
       "  /* unfitted */\n",
       "  background-color: var(--sklearn-color-unfitted-level-3);\n",
       "  color: var(--sklearn-color-background);\n",
       "  text-decoration: none;\n",
       "}\n",
       "\n",
       "div.sk-estimator.fitted:hover .sk-estimator-doc-link.fitted:hover,\n",
       ".sk-estimator-doc-link.fitted:hover,\n",
       "div.sk-label-container:hover .sk-estimator-doc-link.fitted:hover,\n",
       ".sk-estimator-doc-link.fitted:hover {\n",
       "  /* fitted */\n",
       "  background-color: var(--sklearn-color-fitted-level-3);\n",
       "  color: var(--sklearn-color-background);\n",
       "  text-decoration: none;\n",
       "}\n",
       "\n",
       "/* Span, style for the box shown on hovering the info icon */\n",
       ".sk-estimator-doc-link span {\n",
       "  display: none;\n",
       "  z-index: 9999;\n",
       "  position: relative;\n",
       "  font-weight: normal;\n",
       "  right: .2ex;\n",
       "  padding: .5ex;\n",
       "  margin: .5ex;\n",
       "  width: min-content;\n",
       "  min-width: 20ex;\n",
       "  max-width: 50ex;\n",
       "  color: var(--sklearn-color-text);\n",
       "  box-shadow: 2pt 2pt 4pt #999;\n",
       "  /* unfitted */\n",
       "  background: var(--sklearn-color-unfitted-level-0);\n",
       "  border: .5pt solid var(--sklearn-color-unfitted-level-3);\n",
       "}\n",
       "\n",
       ".sk-estimator-doc-link.fitted span {\n",
       "  /* fitted */\n",
       "  background: var(--sklearn-color-fitted-level-0);\n",
       "  border: var(--sklearn-color-fitted-level-3);\n",
       "}\n",
       "\n",
       ".sk-estimator-doc-link:hover span {\n",
       "  display: block;\n",
       "}\n",
       "\n",
       "/* \"?\"-specific style due to the `<a>` HTML tag */\n",
       "\n",
       "#sk-container-id-1 a.estimator_doc_link {\n",
       "  float: right;\n",
       "  font-size: 1rem;\n",
       "  line-height: 1em;\n",
       "  font-family: monospace;\n",
       "  background-color: var(--sklearn-color-background);\n",
       "  border-radius: 1rem;\n",
       "  height: 1rem;\n",
       "  width: 1rem;\n",
       "  text-decoration: none;\n",
       "  /* unfitted */\n",
       "  color: var(--sklearn-color-unfitted-level-1);\n",
       "  border: var(--sklearn-color-unfitted-level-1) 1pt solid;\n",
       "}\n",
       "\n",
       "#sk-container-id-1 a.estimator_doc_link.fitted {\n",
       "  /* fitted */\n",
       "  border: var(--sklearn-color-fitted-level-1) 1pt solid;\n",
       "  color: var(--sklearn-color-fitted-level-1);\n",
       "}\n",
       "\n",
       "/* On hover */\n",
       "#sk-container-id-1 a.estimator_doc_link:hover {\n",
       "  /* unfitted */\n",
       "  background-color: var(--sklearn-color-unfitted-level-3);\n",
       "  color: var(--sklearn-color-background);\n",
       "  text-decoration: none;\n",
       "}\n",
       "\n",
       "#sk-container-id-1 a.estimator_doc_link.fitted:hover {\n",
       "  /* fitted */\n",
       "  background-color: var(--sklearn-color-fitted-level-3);\n",
       "}\n",
       "</style><div id=\"sk-container-id-1\" class=\"sk-top-container\"><div class=\"sk-text-repr-fallback\"><pre>DecisionTreeRegressor(random_state=42)</pre><b>In a Jupyter environment, please rerun this cell to show the HTML representation or trust the notebook. <br />On GitHub, the HTML representation is unable to render, please try loading this page with nbviewer.org.</b></div><div class=\"sk-container\" hidden><div class=\"sk-item\"><div class=\"sk-estimator fitted sk-toggleable\"><input class=\"sk-toggleable__control sk-hidden--visually\" id=\"sk-estimator-id-1\" type=\"checkbox\" checked><label for=\"sk-estimator-id-1\" class=\"sk-toggleable__label fitted sk-toggleable__label-arrow fitted\">&nbsp;&nbsp;DecisionTreeRegressor<a class=\"sk-estimator-doc-link fitted\" rel=\"noreferrer\" target=\"_blank\" href=\"https://scikit-learn.org/1.5/modules/generated/sklearn.tree.DecisionTreeRegressor.html\">?<span>Documentation for DecisionTreeRegressor</span></a><span class=\"sk-estimator-doc-link fitted\">i<span>Fitted</span></span></label><div class=\"sk-toggleable__content fitted\"><pre>DecisionTreeRegressor(random_state=42)</pre></div> </div></div></div></div>"
      ],
      "text/plain": [
       "DecisionTreeRegressor(random_state=42)"
      ]
     },
     "execution_count": 37,
     "metadata": {},
     "output_type": "execute_result"
    }
   ],
   "source": [
    "model = DecisionTreeRegressor(random_state=42)\n",
    "model.fit(X_train, Y_train)"
   ]
  },
  {
   "cell_type": "code",
   "execution_count": 38,
   "metadata": {
    "colab": {
     "base_uri": "https://localhost:8080/"
    },
    "id": "c-F9xcbiYxqw",
    "outputId": "d9fd618e-f983-4087-bec9-27071afb7784"
   },
   "outputs": [
    {
     "name": "stdout",
     "output_type": "stream",
     "text": [
      "Mean Absolute Error (MAE): 1.0875723415710166\n",
      "Mean Squared Error (MSE): 3.4865011749315857\n",
      "R-squared (R²): 0.9709256525065854\n"
     ]
    }
   ],
   "source": [
    "Y_pred = model.predict(X_test)\n",
    "\n",
    "mae = mean_absolute_error(Y_test, Y_pred)\n",
    "mse = mean_squared_error(Y_test, Y_pred)\n",
    "r2 = r2_score(Y_test, Y_pred)\n",
    "\n",
    "print(f\"Mean Absolute Error (MAE): {mae}\")\n",
    "print(f\"Mean Squared Error (MSE): {mse}\")\n",
    "print(f\"R-squared (R²): {r2}\")"
   ]
  },
  {
   "cell_type": "code",
   "execution_count": 39,
   "metadata": {
    "colab": {
     "base_uri": "https://localhost:8080/",
     "height": 564
    },
    "id": "bBqjlyvSZRRN",
    "outputId": "d0aca95d-b26e-47d5-c6b1-1df8aab8c937"
   },
   "outputs": [
    {
     "data": {
      "image/png": "[encoded data removed]",
      "text/plain": [
       "<Figure size 1000x600 with 1 Axes>"
      ]
     },
     "metadata": {},
     "output_type": "display_data"
    }
   ],
   "source": [
    "plt.figure(figsize=(10, 6))\n",
    "plt.scatter(Y_test, Y_pred, color='blue', label='Previsões')\n",
    "plt.plot([min(Y_test), max(Y_test)], [min(Y_test), max(Y_test)], color='red', linestyle='--', label='Reta ideal')\n",
    "plt.xlabel('Consumo de energia Real')\n",
    "plt.ylabel('Consumo de energia Previsto')\n",
    "plt.title('Consumo previsto vs Consumo real de Energia')\n",
    "plt.legend()\n",
    "plt.show()"
   ]
  },
  {
   "cell_type": "markdown",
   "metadata": {
    "id": "98h2EQ55Zple"
   },
   "source": [
    "Para efeito de comparação, também será feito o treinamento do medelo com o dataset a priori da aplicação do PCA"
   ]
  },
  {
   "cell_type": "markdown",
   "metadata": {
    "id": "9qzIDXySXRc8"
   },
   "source": [
    "### Árvore de decisão sem PCA"
   ]
  },
  {
   "cell_type": "code",
   "execution_count": 40,
   "metadata": {
    "id": "1BA6SfKNXjyK"
   },
   "outputs": [],
   "source": [
    "X_train, X_test, Y_train, Y_test = train_test_split(X_normalizado, Y, test_size=0.3, random_state=777)"
   ]
  },
  {
   "cell_type": "code",
   "execution_count": 41,
   "metadata": {
    "colab": {
     "base_uri": "https://localhost:8080/",
     "height": 80
    },
    "id": "JRodMxoFXjyL",
    "outputId": "4929fd2c-9a36-44d2-d74a-f5fe80585df7"
   },
   "outputs": [
    {
     "data": {
      "text/html": [
       "<style>#sk-container-id-2 {\n",
       "  /* Definition of color scheme common for light and dark mode */\n",
       "  --sklearn-color-text: black;\n",
       "  --sklearn-color-line: gray;\n",
       "  /* Definition of color scheme for unfitted estimators */\n",
       "  --sklearn-color-unfitted-level-0: #fff5e6;\n",
       "  --sklearn-color-unfitted-level-1: #f6e4d2;\n",
       "  --sklearn-color-unfitted-level-2: #ffe0b3;\n",
       "  --sklearn-color-unfitted-level-3: chocolate;\n",
       "  /* Definition of color scheme for fitted estimators */\n",
       "  --sklearn-color-fitted-level-0: #f0f8ff;\n",
       "  --sklearn-color-fitted-level-1: #d4ebff;\n",
       "  --sklearn-color-fitted-level-2: #b3dbfd;\n",
       "  --sklearn-color-fitted-level-3: cornflowerblue;\n",
       "\n",
       "  /* Specific color for light theme */\n",
       "  --sklearn-color-text-on-default-background: var(--sg-text-color, var(--theme-code-foreground, var(--jp-content-font-color1, black)));\n",
       "  --sklearn-color-background: var(--sg-background-color, var(--theme-background, var(--jp-layout-color0, white)));\n",
       "  --sklearn-color-border-box: var(--sg-text-color, var(--theme-code-foreground, var(--jp-content-font-color1, black)));\n",
       "  --sklearn-color-icon: #696969;\n",
       "\n",
       "  @media (prefers-color-scheme: dark) {\n",
       "    /* Redefinition of color scheme for dark theme */\n",
       "    --sklearn-color-text-on-default-background: var(--sg-text-color, var(--theme-code-foreground, var(--jp-content-font-color1, white)));\n",
       "    --sklearn-color-background: var(--sg-background-color, var(--theme-background, var(--jp-layout-color0, #111)));\n",
       "    --sklearn-color-border-box: var(--sg-text-color, var(--theme-code-foreground, var(--jp-content-font-color1, white)));\n",
       "    --sklearn-color-icon: #878787;\n",
       "  }\n",
       "}\n",
       "\n",
       "#sk-container-id-2 {\n",
       "  color: var(--sklearn-color-text);\n",
       "}\n",
       "\n",
       "#sk-container-id-2 pre {\n",
       "  padding: 0;\n",
       "}\n",
       "\n",
       "#sk-container-id-2 input.sk-hidden--visually {\n",
       "  border: 0;\n",
       "  clip: rect(1px 1px 1px 1px);\n",
       "  clip: rect(1px, 1px, 1px, 1px);\n",
       "  height: 1px;\n",
       "  margin: -1px;\n",
       "  overflow: hidden;\n",
       "  padding: 0;\n",
       "  position: absolute;\n",
       "  width: 1px;\n",
       "}\n",
       "\n",
       "#sk-container-id-2 div.sk-dashed-wrapped {\n",
       "  border: 1px dashed var(--sklearn-color-line);\n",
       "  margin: 0 0.4em 0.5em 0.4em;\n",
       "  box-sizing: border-box;\n",
       "  padding-bottom: 0.4em;\n",
       "  background-color: var(--sklearn-color-background);\n",
       "}\n",
       "\n",
       "#sk-container-id-2 div.sk-container {\n",
       "  /* jupyter's `normalize.less` sets `[hidden] { display: none; }`\n",
       "     but bootstrap.min.css set `[hidden] { display: none !important; }`\n",
       "     so we also need the `!important` here to be able to override the\n",
       "     default hidden behavior on the sphinx rendered scikit-learn.org.\n",
       "     See: https://github.com/scikit-learn/scikit-learn/issues/21755 */\n",
       "  display: inline-block !important;\n",
       "  position: relative;\n",
       "}\n",
       "\n",
       "#sk-container-id-2 div.sk-text-repr-fallback {\n",
       "  display: none;\n",
       "}\n",
       "\n",
       "div.sk-parallel-item,\n",
       "div.sk-serial,\n",
       "div.sk-item {\n",
       "  /* draw centered vertical line to link estimators */\n",
       "  background-image: linear-gradient(var(--sklearn-color-text-on-default-background), var(--sklearn-color-text-on-default-background));\n",
       "  background-size: 2px 100%;\n",
       "  background-repeat: no-repeat;\n",
       "  background-position: center center;\n",
       "}\n",
       "\n",
       "/* Parallel-specific style estimator block */\n",
       "\n",
       "#sk-container-id-2 div.sk-parallel-item::after {\n",
       "  content: \"\";\n",
       "  width: 100%;\n",
       "  border-bottom: 2px solid var(--sklearn-color-text-on-default-background);\n",
       "  flex-grow: 1;\n",
       "}\n",
       "\n",
       "#sk-container-id-2 div.sk-parallel {\n",
       "  display: flex;\n",
       "  align-items: stretch;\n",
       "  justify-content: center;\n",
       "  background-color: var(--sklearn-color-background);\n",
       "  position: relative;\n",
       "}\n",
       "\n",
       "#sk-container-id-2 div.sk-parallel-item {\n",
       "  display: flex;\n",
       "  flex-direction: column;\n",
       "}\n",
       "\n",
       "#sk-container-id-2 div.sk-parallel-item:first-child::after {\n",
       "  align-self: flex-end;\n",
       "  width: 50%;\n",
       "}\n",
       "\n",
       "#sk-container-id-2 div.sk-parallel-item:last-child::after {\n",
       "  align-self: flex-start;\n",
       "  width: 50%;\n",
       "}\n",
       "\n",
       "#sk-container-id-2 div.sk-parallel-item:only-child::after {\n",
       "  width: 0;\n",
       "}\n",
       "\n",
       "/* Serial-specific style estimator block */\n",
       "\n",
       "#sk-container-id-2 div.sk-serial {\n",
       "  display: flex;\n",
       "  flex-direction: column;\n",
       "  align-items: center;\n",
       "  background-color: var(--sklearn-color-background);\n",
       "  padding-right: 1em;\n",
       "  padding-left: 1em;\n",
       "}\n",
       "\n",
       "\n",
       "/* Toggleable style: style used for estimator/Pipeline/ColumnTransformer box that is\n",
       "clickable and can be expanded/collapsed.\n",
       "- Pipeline and ColumnTransformer use this feature and define the default style\n",
       "- Estimators will overwrite some part of the style using the `sk-estimator` class\n",
       "*/\n",
       "\n",
       "/* Pipeline and ColumnTransformer style (default) */\n",
       "\n",
       "#sk-container-id-2 div.sk-toggleable {\n",
       "  /* Default theme specific background. It is overwritten whether we have a\n",
       "  specific estimator or a Pipeline/ColumnTransformer */\n",
       "  background-color: var(--sklearn-color-background);\n",
       "}\n",
       "\n",
       "/* Toggleable label */\n",
       "#sk-container-id-2 label.sk-toggleable__label {\n",
       "  cursor: pointer;\n",
       "  display: block;\n",
       "  width: 100%;\n",
       "  margin-bottom: 0;\n",
       "  padding: 0.5em;\n",
       "  box-sizing: border-box;\n",
       "  text-align: center;\n",
       "}\n",
       "\n",
       "#sk-container-id-2 label.sk-toggleable__label-arrow:before {\n",
       "  /* Arrow on the left of the label */\n",
       "  content: \"▸\";\n",
       "  float: left;\n",
       "  margin-right: 0.25em;\n",
       "  color: var(--sklearn-color-icon);\n",
       "}\n",
       "\n",
       "#sk-container-id-2 label.sk-toggleable__label-arrow:hover:before {\n",
       "  color: var(--sklearn-color-text);\n",
       "}\n",
       "\n",
       "/* Toggleable content - dropdown */\n",
       "\n",
       "#sk-container-id-2 div.sk-toggleable__content {\n",
       "  max-height: 0;\n",
       "  max-width: 0;\n",
       "  overflow: hidden;\n",
       "  text-align: left;\n",
       "  /* unfitted */\n",
       "  background-color: var(--sklearn-color-unfitted-level-0);\n",
       "}\n",
       "\n",
       "#sk-container-id-2 div.sk-toggleable__content.fitted {\n",
       "  /* fitted */\n",
       "  background-color: var(--sklearn-color-fitted-level-0);\n",
       "}\n",
       "\n",
       "#sk-container-id-2 div.sk-toggleable__content pre {\n",
       "  margin: 0.2em;\n",
       "  border-radius: 0.25em;\n",
       "  color: var(--sklearn-color-text);\n",
       "  /* unfitted */\n",
       "  background-color: var(--sklearn-color-unfitted-level-0);\n",
       "}\n",
       "\n",
       "#sk-container-id-2 div.sk-toggleable__content.fitted pre {\n",
       "  /* unfitted */\n",
       "  background-color: var(--sklearn-color-fitted-level-0);\n",
       "}\n",
       "\n",
       "#sk-container-id-2 input.sk-toggleable__control:checked~div.sk-toggleable__content {\n",
       "  /* Expand drop-down */\n",
       "  max-height: 200px;\n",
       "  max-width: 100%;\n",
       "  overflow: auto;\n",
       "}\n",
       "\n",
       "#sk-container-id-2 input.sk-toggleable__control:checked~label.sk-toggleable__label-arrow:before {\n",
       "  content: \"▾\";\n",
       "}\n",
       "\n",
       "/* Pipeline/ColumnTransformer-specific style */\n",
       "\n",
       "#sk-container-id-2 div.sk-label input.sk-toggleable__control:checked~label.sk-toggleable__label {\n",
       "  color: var(--sklearn-color-text);\n",
       "  background-color: var(--sklearn-color-unfitted-level-2);\n",
       "}\n",
       "\n",
       "#sk-container-id-2 div.sk-label.fitted input.sk-toggleable__control:checked~label.sk-toggleable__label {\n",
       "  background-color: var(--sklearn-color-fitted-level-2);\n",
       "}\n",
       "\n",
       "/* Estimator-specific style */\n",
       "\n",
       "/* Colorize estimator box */\n",
       "#sk-container-id-2 div.sk-estimator input.sk-toggleable__control:checked~label.sk-toggleable__label {\n",
       "  /* unfitted */\n",
       "  background-color: var(--sklearn-color-unfitted-level-2);\n",
       "}\n",
       "\n",
       "#sk-container-id-2 div.sk-estimator.fitted input.sk-toggleable__control:checked~label.sk-toggleable__label {\n",
       "  /* fitted */\n",
       "  background-color: var(--sklearn-color-fitted-level-2);\n",
       "}\n",
       "\n",
       "#sk-container-id-2 div.sk-label label.sk-toggleable__label,\n",
       "#sk-container-id-2 div.sk-label label {\n",
       "  /* The background is the default theme color */\n",
       "  color: var(--sklearn-color-text-on-default-background);\n",
       "}\n",
       "\n",
       "/* On hover, darken the color of the background */\n",
       "#sk-container-id-2 div.sk-label:hover label.sk-toggleable__label {\n",
       "  color: var(--sklearn-color-text);\n",
       "  background-color: var(--sklearn-color-unfitted-level-2);\n",
       "}\n",
       "\n",
       "/* Label box, darken color on hover, fitted */\n",
       "#sk-container-id-2 div.sk-label.fitted:hover label.sk-toggleable__label.fitted {\n",
       "  color: var(--sklearn-color-text);\n",
       "  background-color: var(--sklearn-color-fitted-level-2);\n",
       "}\n",
       "\n",
       "/* Estimator label */\n",
       "\n",
       "#sk-container-id-2 div.sk-label label {\n",
       "  font-family: monospace;\n",
       "  font-weight: bold;\n",
       "  display: inline-block;\n",
       "  line-height: 1.2em;\n",
       "}\n",
       "\n",
       "#sk-container-id-2 div.sk-label-container {\n",
       "  text-align: center;\n",
       "}\n",
       "\n",
       "/* Estimator-specific */\n",
       "#sk-container-id-2 div.sk-estimator {\n",
       "  font-family: monospace;\n",
       "  border: 1px dotted var(--sklearn-color-border-box);\n",
       "  border-radius: 0.25em;\n",
       "  box-sizing: border-box;\n",
       "  margin-bottom: 0.5em;\n",
       "  /* unfitted */\n",
       "  background-color: var(--sklearn-color-unfitted-level-0);\n",
       "}\n",
       "\n",
       "#sk-container-id-2 div.sk-estimator.fitted {\n",
       "  /* fitted */\n",
       "  background-color: var(--sklearn-color-fitted-level-0);\n",
       "}\n",
       "\n",
       "/* on hover */\n",
       "#sk-container-id-2 div.sk-estimator:hover {\n",
       "  /* unfitted */\n",
       "  background-color: var(--sklearn-color-unfitted-level-2);\n",
       "}\n",
       "\n",
       "#sk-container-id-2 div.sk-estimator.fitted:hover {\n",
       "  /* fitted */\n",
       "  background-color: var(--sklearn-color-fitted-level-2);\n",
       "}\n",
       "\n",
       "/* Specification for estimator info (e.g. \"i\" and \"?\") */\n",
       "\n",
       "/* Common style for \"i\" and \"?\" */\n",
       "\n",
       ".sk-estimator-doc-link,\n",
       "a:link.sk-estimator-doc-link,\n",
       "a:visited.sk-estimator-doc-link {\n",
       "  float: right;\n",
       "  font-size: smaller;\n",
       "  line-height: 1em;\n",
       "  font-family: monospace;\n",
       "  background-color: var(--sklearn-color-background);\n",
       "  border-radius: 1em;\n",
       "  height: 1em;\n",
       "  width: 1em;\n",
       "  text-decoration: none !important;\n",
       "  margin-left: 1ex;\n",
       "  /* unfitted */\n",
       "  border: var(--sklearn-color-unfitted-level-1) 1pt solid;\n",
       "  color: var(--sklearn-color-unfitted-level-1);\n",
       "}\n",
       "\n",
       ".sk-estimator-doc-link.fitted,\n",
       "a:link.sk-estimator-doc-link.fitted,\n",
       "a:visited.sk-estimator-doc-link.fitted {\n",
       "  /* fitted */\n",
       "  border: var(--sklearn-color-fitted-level-1) 1pt solid;\n",
       "  color: var(--sklearn-color-fitted-level-1);\n",
       "}\n",
       "\n",
       "/* On hover */\n",
       "div.sk-estimator:hover .sk-estimator-doc-link:hover,\n",
       ".sk-estimator-doc-link:hover,\n",
       "div.sk-label-container:hover .sk-estimator-doc-link:hover,\n",
       ".sk-estimator-doc-link:hover {\n",
       "  /* unfitted */\n",
       "  background-color: var(--sklearn-color-unfitted-level-3);\n",
       "  color: var(--sklearn-color-background);\n",
       "  text-decoration: none;\n",
       "}\n",
       "\n",
       "div.sk-estimator.fitted:hover .sk-estimator-doc-link.fitted:hover,\n",
       ".sk-estimator-doc-link.fitted:hover,\n",
       "div.sk-label-container:hover .sk-estimator-doc-link.fitted:hover,\n",
       ".sk-estimator-doc-link.fitted:hover {\n",
       "  /* fitted */\n",
       "  background-color: var(--sklearn-color-fitted-level-3);\n",
       "  color: var(--sklearn-color-background);\n",
       "  text-decoration: none;\n",
       "}\n",
       "\n",
       "/* Span, style for the box shown on hovering the info icon */\n",
       ".sk-estimator-doc-link span {\n",
       "  display: none;\n",
       "  z-index: 9999;\n",
       "  position: relative;\n",
       "  font-weight: normal;\n",
       "  right: .2ex;\n",
       "  padding: .5ex;\n",
       "  margin: .5ex;\n",
       "  width: min-content;\n",
       "  min-width: 20ex;\n",
       "  max-width: 50ex;\n",
       "  color: var(--sklearn-color-text);\n",
       "  box-shadow: 2pt 2pt 4pt #999;\n",
       "  /* unfitted */\n",
       "  background: var(--sklearn-color-unfitted-level-0);\n",
       "  border: .5pt solid var(--sklearn-color-unfitted-level-3);\n",
       "}\n",
       "\n",
       ".sk-estimator-doc-link.fitted span {\n",
       "  /* fitted */\n",
       "  background: var(--sklearn-color-fitted-level-0);\n",
       "  border: var(--sklearn-color-fitted-level-3);\n",
       "}\n",
       "\n",
       ".sk-estimator-doc-link:hover span {\n",
       "  display: block;\n",
       "}\n",
       "\n",
       "/* \"?\"-specific style due to the `<a>` HTML tag */\n",
       "\n",
       "#sk-container-id-2 a.estimator_doc_link {\n",
       "  float: right;\n",
       "  font-size: 1rem;\n",
       "  line-height: 1em;\n",
       "  font-family: monospace;\n",
       "  background-color: var(--sklearn-color-background);\n",
       "  border-radius: 1rem;\n",
       "  height: 1rem;\n",
       "  width: 1rem;\n",
       "  text-decoration: none;\n",
       "  /* unfitted */\n",
       "  color: var(--sklearn-color-unfitted-level-1);\n",
       "  border: var(--sklearn-color-unfitted-level-1) 1pt solid;\n",
       "}\n",
       "\n",
       "#sk-container-id-2 a.estimator_doc_link.fitted {\n",
       "  /* fitted */\n",
       "  border: var(--sklearn-color-fitted-level-1) 1pt solid;\n",
       "  color: var(--sklearn-color-fitted-level-1);\n",
       "}\n",
       "\n",
       "/* On hover */\n",
       "#sk-container-id-2 a.estimator_doc_link:hover {\n",
       "  /* unfitted */\n",
       "  background-color: var(--sklearn-color-unfitted-level-3);\n",
       "  color: var(--sklearn-color-background);\n",
       "  text-decoration: none;\n",
       "}\n",
       "\n",
       "#sk-container-id-2 a.estimator_doc_link.fitted:hover {\n",
       "  /* fitted */\n",
       "  background-color: var(--sklearn-color-fitted-level-3);\n",
       "}\n",
       "</style><div id=\"sk-container-id-2\" class=\"sk-top-container\"><div class=\"sk-text-repr-fallback\"><pre>DecisionTreeRegressor(random_state=42)</pre><b>In a Jupyter environment, please rerun this cell to show the HTML representation or trust the notebook. <br />On GitHub, the HTML representation is unable to render, please try loading this page with nbviewer.org.</b></div><div class=\"sk-container\" hidden><div class=\"sk-item\"><div class=\"sk-estimator fitted sk-toggleable\"><input class=\"sk-toggleable__control sk-hidden--visually\" id=\"sk-estimator-id-2\" type=\"checkbox\" checked><label for=\"sk-estimator-id-2\" class=\"sk-toggleable__label fitted sk-toggleable__label-arrow fitted\">&nbsp;&nbsp;DecisionTreeRegressor<a class=\"sk-estimator-doc-link fitted\" rel=\"noreferrer\" target=\"_blank\" href=\"https://scikit-learn.org/1.5/modules/generated/sklearn.tree.DecisionTreeRegressor.html\">?<span>Documentation for DecisionTreeRegressor</span></a><span class=\"sk-estimator-doc-link fitted\">i<span>Fitted</span></span></label><div class=\"sk-toggleable__content fitted\"><pre>DecisionTreeRegressor(random_state=42)</pre></div> </div></div></div></div>"
      ],
      "text/plain": [
       "DecisionTreeRegressor(random_state=42)"
      ]
     },
     "execution_count": 41,
     "metadata": {},
     "output_type": "execute_result"
    }
   ],
   "source": [
    "model = DecisionTreeRegressor(random_state=42)\n",
    "model.fit(X_train, Y_train)"
   ]
  },
  {
   "cell_type": "code",
   "execution_count": 42,
   "metadata": {
    "colab": {
     "base_uri": "https://localhost:8080/"
    },
    "id": "mQNDvrC4XjyL",
    "outputId": "fcd5f978-8fb3-40d6-b057-7411d515cfd4"
   },
   "outputs": [
    {
     "name": "stdout",
     "output_type": "stream",
     "text": [
      "Mean Absolute Error (MAE): 0.0023389013782495784\n",
      "Mean Squared Error (MSE): 0.03268610743436039\n",
      "R-squared (R²): 0.9997274266670017\n"
     ]
    }
   ],
   "source": [
    "Y_pred = model.predict(X_test)\n",
    "\n",
    "mae = mean_absolute_error(Y_test, Y_pred)\n",
    "mse = mean_squared_error(Y_test, Y_pred)\n",
    "r2 = r2_score(Y_test, Y_pred)\n",
    "\n",
    "print(f\"Mean Absolute Error (MAE): {mae}\")\n",
    "print(f\"Mean Squared Error (MSE): {mse}\")\n",
    "print(f\"R-squared (R²): {r2}\")"
   ]
  },
  {
   "cell_type": "code",
   "execution_count": 43,
   "metadata": {
    "colab": {
     "base_uri": "https://localhost:8080/",
     "height": 564
    },
    "id": "TfIOlfGvXjyM",
    "outputId": "72fcc347-e2fa-4b4c-de4d-95aff158832b"
   },
   "outputs": [
    {
     "data": {
      "image/png": "[encoded data removed]",
      "text/plain": [
       "<Figure size 1000x600 with 1 Axes>"
      ]
     },
     "metadata": {},
     "output_type": "display_data"
    }
   ],
   "source": [
    "plt.figure(figsize=(10, 6))\n",
    "plt.scatter(Y_test, Y_pred, color='blue', label='Previsões')\n",
    "plt.plot([min(Y_test), max(Y_test)], [min(Y_test), max(Y_test)], color='red', linestyle='--', label='Reta ideal')\n",
    "plt.xlabel('Consumo de energia Real')\n",
    "plt.ylabel('Consumo de energia Previsto')\n",
    "plt.title('Consumo previsto vs Consumo real de Energia (Sem PCA)')\n",
    "plt.legend()\n",
    "plt.show()"
   ]
  },
  {
   "cell_type": "markdown",
   "metadata": {
    "id": "1HxZI1c8WwQE"
   },
   "source": [
    "O resultados são interessantes. Conforme era esperado, a análise sem a utilização de redução de dimensionalidade obteve erros muito menores do que o treinamento do modelo utilizando PCA.\n",
    "\n",
    "Embora os resultados parecam ser extraordinários, existe uma falha na forma como está sendo conduzida a seleção das features para teste: com exceção da coluna de consumo energético total, as outras colunas relacionadas a consumo energético estão sendo mantidas no treinamento e predição do modelo. Embora os resultados sejam muito bons devido a isso, esse método não replicaria uma utilização real, na qual não existe informação total a respeito do sistema.\n",
    "\n",
    "Para simular um caso mais fáctivel, vamos remover as outras informações a respeito da energia do dataset, e tentaremo predizar o consumo de energia total somente com as variáveis relacioadas ao clima e a data."
   ]
  },
  {
   "cell_type": "markdown",
   "metadata": {
    "id": "SaDSg1mRZd0y"
   },
   "source": [
    "## Treino final dos modelos de Machine Learning"
   ]
  },
  {
   "cell_type": "markdown",
   "metadata": {
    "id": "PDgT5ogTZvzx"
   },
   "source": [
    "Para comparação serão utilizados os seguintes modelos para o treinamento:\n",
    "- Decision Tree\n",
    "- Random Forest\n",
    "- SGD\n",
    "- Artificial Neural Network\n"
   ]
  },
  {
   "cell_type": "markdown",
   "metadata": {
    "id": "iTgxQNFkaIps"
   },
   "source": [
    "### Remoção dos dados relacionados a energia do dataset"
   ]
  },
  {
   "cell_type": "code",
   "execution_count": 44,
   "metadata": {
    "colab": {
     "base_uri": "https://localhost:8080/"
    },
    "id": "zlVjovcRbC1F",
    "outputId": "89ca0ebf-92f7-417b-e9be-9821fc7231d5"
   },
   "outputs": [
    {
     "data": {
      "text/plain": [
       "Index(['LCLid', 'energy_median', 'energy_mean', 'energy_max', 'energy_count',\n",
       "       'energy_std', 'energy_sum', 'energy_min', 'date', 'temperatureMax',\n",
       "       'temperatureMaxTime', 'windBearing', 'icon', 'dewPoint',\n",
       "       'temperatureMinTime', 'cloudCover', 'windSpeed', 'pressure',\n",
       "       'apparentTemperatureMinTime', 'apparentTemperatureHigh', 'precipType',\n",
       "       'visibility', 'humidity', 'apparentTemperatureHighTime',\n",
       "       'apparentTemperatureLow', 'apparentTemperatureMax', 'uvIndex',\n",
       "       'sunsetTime', 'temperatureLow', 'temperatureMin', 'temperatureHigh',\n",
       "       'sunriseTime', 'temperatureHighTime', 'uvIndexTime', 'summary',\n",
       "       'temperatureLowTime', 'apparentTemperatureMin',\n",
       "       'apparentTemperatureMaxTime', 'apparentTemperatureLowTime', 'moonPhase',\n",
       "       'is_holiday'],\n",
       "      dtype='object')"
      ]
     },
     "execution_count": 44,
     "metadata": {},
     "output_type": "execute_result"
    }
   ],
   "source": [
    "df.columns"
   ]
  },
  {
   "cell_type": "code",
   "execution_count": 45,
   "metadata": {
    "id": "9XL1XFmeaSAZ"
   },
   "outputs": [],
   "source": [
    "df.drop(columns=['energy_min', 'energy_max', 'energy_count'], inplace=True)"
   ]
  },
  {
   "cell_type": "markdown",
   "metadata": {},
   "source": [
    "Algumas colunas relacionadas com dados históricos do consumo de energia, como média, mediana e desvio padrão serão mantidas. Em um caso real, elas poderiam ser abstraídas de dados passados."
   ]
  },
  {
   "cell_type": "markdown",
   "metadata": {
    "id": "FUxgqka4BsQp"
   },
   "source": [
    "### Sample de 20% dos dados para tornar execução mais rápida"
   ]
  },
  {
   "cell_type": "code",
   "execution_count": 46,
   "metadata": {
    "id": "T3w48VOP-GTA"
   },
   "outputs": [],
   "source": [
    "df_sample = df.sample(frac=0.2, random_state=777)"
   ]
  },
  {
   "cell_type": "markdown",
   "metadata": {
    "id": "szrVKHXVB5PL"
   },
   "source": [
    "### Target e Normalização"
   ]
  },
  {
   "cell_type": "code",
   "execution_count": 47,
   "metadata": {
    "id": "MZEyYF5Sqo2f"
   },
   "outputs": [],
   "source": [
    "X = df_sample.drop(columns=['energy_sum']).select_dtypes(include=['int64', 'float64'])\n",
    "Y = df_sample['energy_sum']\n",
    "\n",
    "\n",
    "\n",
    "scaler = StandardScaler()\n",
    "X_normalizado = scaler.fit_transform(X)"
   ]
  },
  {
   "cell_type": "markdown",
   "metadata": {
    "id": "Rhg0THHwBo-C"
   },
   "source": [
    "### PCA"
   ]
  },
  {
   "cell_type": "code",
   "execution_count": 48,
   "metadata": {
    "colab": {
     "base_uri": "https://localhost:8080/"
    },
    "id": "fCOgLeulmuPJ",
    "outputId": "621571d9-8725-491e-f38a-a0e173aea834"
   },
   "outputs": [
    {
     "name": "stdout",
     "output_type": "stream",
     "text": [
      "Componentes depois da análise PCA: 12\n"
     ]
    }
   ],
   "source": [
    "pca = PCA(n_components=0.95)\n",
    "X_pca = pca.fit_transform(X_normalizado)\n",
    "print(\"Componentes depois da análise PCA:\", X_pca.shape[1])"
   ]
  },
  {
   "cell_type": "code",
   "execution_count": 49,
   "metadata": {
    "id": "WVPNYHi_p-CQ"
   },
   "outputs": [],
   "source": [
    "X_train, X_test, Y_train, Y_test = train_test_split(X_pca, Y, test_size=0.3, random_state=777)"
   ]
  },
  {
   "cell_type": "markdown",
   "metadata": {
    "id": "ThZ0EAfmmooi"
   },
   "source": [
    "### Decision Tree"
   ]
  },
  {
   "cell_type": "code",
   "execution_count": 50,
   "metadata": {
    "colab": {
     "base_uri": "https://localhost:8080/",
     "height": 80
    },
    "id": "bWBiuhJbqA8f",
    "outputId": "98911b45-9b73-45cc-feef-ad62b7d80bca"
   },
   "outputs": [
    {
     "data": {
      "text/html": [
       "<style>#sk-container-id-3 {\n",
       "  /* Definition of color scheme common for light and dark mode */\n",
       "  --sklearn-color-text: black;\n",
       "  --sklearn-color-line: gray;\n",
       "  /* Definition of color scheme for unfitted estimators */\n",
       "  --sklearn-color-unfitted-level-0: #fff5e6;\n",
       "  --sklearn-color-unfitted-level-1: #f6e4d2;\n",
       "  --sklearn-color-unfitted-level-2: #ffe0b3;\n",
       "  --sklearn-color-unfitted-level-3: chocolate;\n",
       "  /* Definition of color scheme for fitted estimators */\n",
       "  --sklearn-color-fitted-level-0: #f0f8ff;\n",
       "  --sklearn-color-fitted-level-1: #d4ebff;\n",
       "  --sklearn-color-fitted-level-2: #b3dbfd;\n",
       "  --sklearn-color-fitted-level-3: cornflowerblue;\n",
       "\n",
       "  /* Specific color for light theme */\n",
       "  --sklearn-color-text-on-default-background: var(--sg-text-color, var(--theme-code-foreground, var(--jp-content-font-color1, black)));\n",
       "  --sklearn-color-background: var(--sg-background-color, var(--theme-background, var(--jp-layout-color0, white)));\n",
       "  --sklearn-color-border-box: var(--sg-text-color, var(--theme-code-foreground, var(--jp-content-font-color1, black)));\n",
       "  --sklearn-color-icon: #696969;\n",
       "\n",
       "  @media (prefers-color-scheme: dark) {\n",
       "    /* Redefinition of color scheme for dark theme */\n",
       "    --sklearn-color-text-on-default-background: var(--sg-text-color, var(--theme-code-foreground, var(--jp-content-font-color1, white)));\n",
       "    --sklearn-color-background: var(--sg-background-color, var(--theme-background, var(--jp-layout-color0, #111)));\n",
       "    --sklearn-color-border-box: var(--sg-text-color, var(--theme-code-foreground, var(--jp-content-font-color1, white)));\n",
       "    --sklearn-color-icon: #878787;\n",
       "  }\n",
       "}\n",
       "\n",
       "#sk-container-id-3 {\n",
       "  color: var(--sklearn-color-text);\n",
       "}\n",
       "\n",
       "#sk-container-id-3 pre {\n",
       "  padding: 0;\n",
       "}\n",
       "\n",
       "#sk-container-id-3 input.sk-hidden--visually {\n",
       "  border: 0;\n",
       "  clip: rect(1px 1px 1px 1px);\n",
       "  clip: rect(1px, 1px, 1px, 1px);\n",
       "  height: 1px;\n",
       "  margin: -1px;\n",
       "  overflow: hidden;\n",
       "  padding: 0;\n",
       "  position: absolute;\n",
       "  width: 1px;\n",
       "}\n",
       "\n",
       "#sk-container-id-3 div.sk-dashed-wrapped {\n",
       "  border: 1px dashed var(--sklearn-color-line);\n",
       "  margin: 0 0.4em 0.5em 0.4em;\n",
       "  box-sizing: border-box;\n",
       "  padding-bottom: 0.4em;\n",
       "  background-color: var(--sklearn-color-background);\n",
       "}\n",
       "\n",
       "#sk-container-id-3 div.sk-container {\n",
       "  /* jupyter's `normalize.less` sets `[hidden] { display: none; }`\n",
       "     but bootstrap.min.css set `[hidden] { display: none !important; }`\n",
       "     so we also need the `!important` here to be able to override the\n",
       "     default hidden behavior on the sphinx rendered scikit-learn.org.\n",
       "     See: https://github.com/scikit-learn/scikit-learn/issues/21755 */\n",
       "  display: inline-block !important;\n",
       "  position: relative;\n",
       "}\n",
       "\n",
       "#sk-container-id-3 div.sk-text-repr-fallback {\n",
       "  display: none;\n",
       "}\n",
       "\n",
       "div.sk-parallel-item,\n",
       "div.sk-serial,\n",
       "div.sk-item {\n",
       "  /* draw centered vertical line to link estimators */\n",
       "  background-image: linear-gradient(var(--sklearn-color-text-on-default-background), var(--sklearn-color-text-on-default-background));\n",
       "  background-size: 2px 100%;\n",
       "  background-repeat: no-repeat;\n",
       "  background-position: center center;\n",
       "}\n",
       "\n",
       "/* Parallel-specific style estimator block */\n",
       "\n",
       "#sk-container-id-3 div.sk-parallel-item::after {\n",
       "  content: \"\";\n",
       "  width: 100%;\n",
       "  border-bottom: 2px solid var(--sklearn-color-text-on-default-background);\n",
       "  flex-grow: 1;\n",
       "}\n",
       "\n",
       "#sk-container-id-3 div.sk-parallel {\n",
       "  display: flex;\n",
       "  align-items: stretch;\n",
       "  justify-content: center;\n",
       "  background-color: var(--sklearn-color-background);\n",
       "  position: relative;\n",
       "}\n",
       "\n",
       "#sk-container-id-3 div.sk-parallel-item {\n",
       "  display: flex;\n",
       "  flex-direction: column;\n",
       "}\n",
       "\n",
       "#sk-container-id-3 div.sk-parallel-item:first-child::after {\n",
       "  align-self: flex-end;\n",
       "  width: 50%;\n",
       "}\n",
       "\n",
       "#sk-container-id-3 div.sk-parallel-item:last-child::after {\n",
       "  align-self: flex-start;\n",
       "  width: 50%;\n",
       "}\n",
       "\n",
       "#sk-container-id-3 div.sk-parallel-item:only-child::after {\n",
       "  width: 0;\n",
       "}\n",
       "\n",
       "/* Serial-specific style estimator block */\n",
       "\n",
       "#sk-container-id-3 div.sk-serial {\n",
       "  display: flex;\n",
       "  flex-direction: column;\n",
       "  align-items: center;\n",
       "  background-color: var(--sklearn-color-background);\n",
       "  padding-right: 1em;\n",
       "  padding-left: 1em;\n",
       "}\n",
       "\n",
       "\n",
       "/* Toggleable style: style used for estimator/Pipeline/ColumnTransformer box that is\n",
       "clickable and can be expanded/collapsed.\n",
       "- Pipeline and ColumnTransformer use this feature and define the default style\n",
       "- Estimators will overwrite some part of the style using the `sk-estimator` class\n",
       "*/\n",
       "\n",
       "/* Pipeline and ColumnTransformer style (default) */\n",
       "\n",
       "#sk-container-id-3 div.sk-toggleable {\n",
       "  /* Default theme specific background. It is overwritten whether we have a\n",
       "  specific estimator or a Pipeline/ColumnTransformer */\n",
       "  background-color: var(--sklearn-color-background);\n",
       "}\n",
       "\n",
       "/* Toggleable label */\n",
       "#sk-container-id-3 label.sk-toggleable__label {\n",
       "  cursor: pointer;\n",
       "  display: block;\n",
       "  width: 100%;\n",
       "  margin-bottom: 0;\n",
       "  padding: 0.5em;\n",
       "  box-sizing: border-box;\n",
       "  text-align: center;\n",
       "}\n",
       "\n",
       "#sk-container-id-3 label.sk-toggleable__label-arrow:before {\n",
       "  /* Arrow on the left of the label */\n",
       "  content: \"▸\";\n",
       "  float: left;\n",
       "  margin-right: 0.25em;\n",
       "  color: var(--sklearn-color-icon);\n",
       "}\n",
       "\n",
       "#sk-container-id-3 label.sk-toggleable__label-arrow:hover:before {\n",
       "  color: var(--sklearn-color-text);\n",
       "}\n",
       "\n",
       "/* Toggleable content - dropdown */\n",
       "\n",
       "#sk-container-id-3 div.sk-toggleable__content {\n",
       "  max-height: 0;\n",
       "  max-width: 0;\n",
       "  overflow: hidden;\n",
       "  text-align: left;\n",
       "  /* unfitted */\n",
       "  background-color: var(--sklearn-color-unfitted-level-0);\n",
       "}\n",
       "\n",
       "#sk-container-id-3 div.sk-toggleable__content.fitted {\n",
       "  /* fitted */\n",
       "  background-color: var(--sklearn-color-fitted-level-0);\n",
       "}\n",
       "\n",
       "#sk-container-id-3 div.sk-toggleable__content pre {\n",
       "  margin: 0.2em;\n",
       "  border-radius: 0.25em;\n",
       "  color: var(--sklearn-color-text);\n",
       "  /* unfitted */\n",
       "  background-color: var(--sklearn-color-unfitted-level-0);\n",
       "}\n",
       "\n",
       "#sk-container-id-3 div.sk-toggleable__content.fitted pre {\n",
       "  /* unfitted */\n",
       "  background-color: var(--sklearn-color-fitted-level-0);\n",
       "}\n",
       "\n",
       "#sk-container-id-3 input.sk-toggleable__control:checked~div.sk-toggleable__content {\n",
       "  /* Expand drop-down */\n",
       "  max-height: 200px;\n",
       "  max-width: 100%;\n",
       "  overflow: auto;\n",
       "}\n",
       "\n",
       "#sk-container-id-3 input.sk-toggleable__control:checked~label.sk-toggleable__label-arrow:before {\n",
       "  content: \"▾\";\n",
       "}\n",
       "\n",
       "/* Pipeline/ColumnTransformer-specific style */\n",
       "\n",
       "#sk-container-id-3 div.sk-label input.sk-toggleable__control:checked~label.sk-toggleable__label {\n",
       "  color: var(--sklearn-color-text);\n",
       "  background-color: var(--sklearn-color-unfitted-level-2);\n",
       "}\n",
       "\n",
       "#sk-container-id-3 div.sk-label.fitted input.sk-toggleable__control:checked~label.sk-toggleable__label {\n",
       "  background-color: var(--sklearn-color-fitted-level-2);\n",
       "}\n",
       "\n",
       "/* Estimator-specific style */\n",
       "\n",
       "/* Colorize estimator box */\n",
       "#sk-container-id-3 div.sk-estimator input.sk-toggleable__control:checked~label.sk-toggleable__label {\n",
       "  /* unfitted */\n",
       "  background-color: var(--sklearn-color-unfitted-level-2);\n",
       "}\n",
       "\n",
       "#sk-container-id-3 div.sk-estimator.fitted input.sk-toggleable__control:checked~label.sk-toggleable__label {\n",
       "  /* fitted */\n",
       "  background-color: var(--sklearn-color-fitted-level-2);\n",
       "}\n",
       "\n",
       "#sk-container-id-3 div.sk-label label.sk-toggleable__label,\n",
       "#sk-container-id-3 div.sk-label label {\n",
       "  /* The background is the default theme color */\n",
       "  color: var(--sklearn-color-text-on-default-background);\n",
       "}\n",
       "\n",
       "/* On hover, darken the color of the background */\n",
       "#sk-container-id-3 div.sk-label:hover label.sk-toggleable__label {\n",
       "  color: var(--sklearn-color-text);\n",
       "  background-color: var(--sklearn-color-unfitted-level-2);\n",
       "}\n",
       "\n",
       "/* Label box, darken color on hover, fitted */\n",
       "#sk-container-id-3 div.sk-label.fitted:hover label.sk-toggleable__label.fitted {\n",
       "  color: var(--sklearn-color-text);\n",
       "  background-color: var(--sklearn-color-fitted-level-2);\n",
       "}\n",
       "\n",
       "/* Estimator label */\n",
       "\n",
       "#sk-container-id-3 div.sk-label label {\n",
       "  font-family: monospace;\n",
       "  font-weight: bold;\n",
       "  display: inline-block;\n",
       "  line-height: 1.2em;\n",
       "}\n",
       "\n",
       "#sk-container-id-3 div.sk-label-container {\n",
       "  text-align: center;\n",
       "}\n",
       "\n",
       "/* Estimator-specific */\n",
       "#sk-container-id-3 div.sk-estimator {\n",
       "  font-family: monospace;\n",
       "  border: 1px dotted var(--sklearn-color-border-box);\n",
       "  border-radius: 0.25em;\n",
       "  box-sizing: border-box;\n",
       "  margin-bottom: 0.5em;\n",
       "  /* unfitted */\n",
       "  background-color: var(--sklearn-color-unfitted-level-0);\n",
       "}\n",
       "\n",
       "#sk-container-id-3 div.sk-estimator.fitted {\n",
       "  /* fitted */\n",
       "  background-color: var(--sklearn-color-fitted-level-0);\n",
       "}\n",
       "\n",
       "/* on hover */\n",
       "#sk-container-id-3 div.sk-estimator:hover {\n",
       "  /* unfitted */\n",
       "  background-color: var(--sklearn-color-unfitted-level-2);\n",
       "}\n",
       "\n",
       "#sk-container-id-3 div.sk-estimator.fitted:hover {\n",
       "  /* fitted */\n",
       "  background-color: var(--sklearn-color-fitted-level-2);\n",
       "}\n",
       "\n",
       "/* Specification for estimator info (e.g. \"i\" and \"?\") */\n",
       "\n",
       "/* Common style for \"i\" and \"?\" */\n",
       "\n",
       ".sk-estimator-doc-link,\n",
       "a:link.sk-estimator-doc-link,\n",
       "a:visited.sk-estimator-doc-link {\n",
       "  float: right;\n",
       "  font-size: smaller;\n",
       "  line-height: 1em;\n",
       "  font-family: monospace;\n",
       "  background-color: var(--sklearn-color-background);\n",
       "  border-radius: 1em;\n",
       "  height: 1em;\n",
       "  width: 1em;\n",
       "  text-decoration: none !important;\n",
       "  margin-left: 1ex;\n",
       "  /* unfitted */\n",
       "  border: var(--sklearn-color-unfitted-level-1) 1pt solid;\n",
       "  color: var(--sklearn-color-unfitted-level-1);\n",
       "}\n",
       "\n",
       ".sk-estimator-doc-link.fitted,\n",
       "a:link.sk-estimator-doc-link.fitted,\n",
       "a:visited.sk-estimator-doc-link.fitted {\n",
       "  /* fitted */\n",
       "  border: var(--sklearn-color-fitted-level-1) 1pt solid;\n",
       "  color: var(--sklearn-color-fitted-level-1);\n",
       "}\n",
       "\n",
       "/* On hover */\n",
       "div.sk-estimator:hover .sk-estimator-doc-link:hover,\n",
       ".sk-estimator-doc-link:hover,\n",
       "div.sk-label-container:hover .sk-estimator-doc-link:hover,\n",
       ".sk-estimator-doc-link:hover {\n",
       "  /* unfitted */\n",
       "  background-color: var(--sklearn-color-unfitted-level-3);\n",
       "  color: var(--sklearn-color-background);\n",
       "  text-decoration: none;\n",
       "}\n",
       "\n",
       "div.sk-estimator.fitted:hover .sk-estimator-doc-link.fitted:hover,\n",
       ".sk-estimator-doc-link.fitted:hover,\n",
       "div.sk-label-container:hover .sk-estimator-doc-link.fitted:hover,\n",
       ".sk-estimator-doc-link.fitted:hover {\n",
       "  /* fitted */\n",
       "  background-color: var(--sklearn-color-fitted-level-3);\n",
       "  color: var(--sklearn-color-background);\n",
       "  text-decoration: none;\n",
       "}\n",
       "\n",
       "/* Span, style for the box shown on hovering the info icon */\n",
       ".sk-estimator-doc-link span {\n",
       "  display: none;\n",
       "  z-index: 9999;\n",
       "  position: relative;\n",
       "  font-weight: normal;\n",
       "  right: .2ex;\n",
       "  padding: .5ex;\n",
       "  margin: .5ex;\n",
       "  width: min-content;\n",
       "  min-width: 20ex;\n",
       "  max-width: 50ex;\n",
       "  color: var(--sklearn-color-text);\n",
       "  box-shadow: 2pt 2pt 4pt #999;\n",
       "  /* unfitted */\n",
       "  background: var(--sklearn-color-unfitted-level-0);\n",
       "  border: .5pt solid var(--sklearn-color-unfitted-level-3);\n",
       "}\n",
       "\n",
       ".sk-estimator-doc-link.fitted span {\n",
       "  /* fitted */\n",
       "  background: var(--sklearn-color-fitted-level-0);\n",
       "  border: var(--sklearn-color-fitted-level-3);\n",
       "}\n",
       "\n",
       ".sk-estimator-doc-link:hover span {\n",
       "  display: block;\n",
       "}\n",
       "\n",
       "/* \"?\"-specific style due to the `<a>` HTML tag */\n",
       "\n",
       "#sk-container-id-3 a.estimator_doc_link {\n",
       "  float: right;\n",
       "  font-size: 1rem;\n",
       "  line-height: 1em;\n",
       "  font-family: monospace;\n",
       "  background-color: var(--sklearn-color-background);\n",
       "  border-radius: 1rem;\n",
       "  height: 1rem;\n",
       "  width: 1rem;\n",
       "  text-decoration: none;\n",
       "  /* unfitted */\n",
       "  color: var(--sklearn-color-unfitted-level-1);\n",
       "  border: var(--sklearn-color-unfitted-level-1) 1pt solid;\n",
       "}\n",
       "\n",
       "#sk-container-id-3 a.estimator_doc_link.fitted {\n",
       "  /* fitted */\n",
       "  border: var(--sklearn-color-fitted-level-1) 1pt solid;\n",
       "  color: var(--sklearn-color-fitted-level-1);\n",
       "}\n",
       "\n",
       "/* On hover */\n",
       "#sk-container-id-3 a.estimator_doc_link:hover {\n",
       "  /* unfitted */\n",
       "  background-color: var(--sklearn-color-unfitted-level-3);\n",
       "  color: var(--sklearn-color-background);\n",
       "  text-decoration: none;\n",
       "}\n",
       "\n",
       "#sk-container-id-3 a.estimator_doc_link.fitted:hover {\n",
       "  /* fitted */\n",
       "  background-color: var(--sklearn-color-fitted-level-3);\n",
       "}\n",
       "</style><div id=\"sk-container-id-3\" class=\"sk-top-container\"><div class=\"sk-text-repr-fallback\"><pre>DecisionTreeRegressor(random_state=42)</pre><b>In a Jupyter environment, please rerun this cell to show the HTML representation or trust the notebook. <br />On GitHub, the HTML representation is unable to render, please try loading this page with nbviewer.org.</b></div><div class=\"sk-container\" hidden><div class=\"sk-item\"><div class=\"sk-estimator fitted sk-toggleable\"><input class=\"sk-toggleable__control sk-hidden--visually\" id=\"sk-estimator-id-3\" type=\"checkbox\" checked><label for=\"sk-estimator-id-3\" class=\"sk-toggleable__label fitted sk-toggleable__label-arrow fitted\">&nbsp;&nbsp;DecisionTreeRegressor<a class=\"sk-estimator-doc-link fitted\" rel=\"noreferrer\" target=\"_blank\" href=\"https://scikit-learn.org/1.5/modules/generated/sklearn.tree.DecisionTreeRegressor.html\">?<span>Documentation for DecisionTreeRegressor</span></a><span class=\"sk-estimator-doc-link fitted\">i<span>Fitted</span></span></label><div class=\"sk-toggleable__content fitted\"><pre>DecisionTreeRegressor(random_state=42)</pre></div> </div></div></div></div>"
      ],
      "text/plain": [
       "DecisionTreeRegressor(random_state=42)"
      ]
     },
     "execution_count": 50,
     "metadata": {},
     "output_type": "execute_result"
    }
   ],
   "source": [
    "model = DecisionTreeRegressor(random_state=42)\n",
    "model.fit(X_train, Y_train)"
   ]
  },
  {
   "cell_type": "code",
   "execution_count": 51,
   "metadata": {
    "colab": {
     "base_uri": "https://localhost:8080/"
    },
    "id": "dSLzaN96qTfh",
    "outputId": "023a396a-13c8-45ce-f5e1-0ea4c1f4e453"
   },
   "outputs": [
    {
     "name": "stdout",
     "output_type": "stream",
     "text": [
      "Mean Absolute Error (MAE): 0.9095555214163914\n",
      "Mean Squared Error (MSE): 2.688802084967185\n",
      "R-squared (R²): 0.9777693938261579\n"
     ]
    }
   ],
   "source": [
    "Y_pred = model.predict(X_test)\n",
    "\n",
    "mae = mean_absolute_error(Y_test, Y_pred)\n",
    "mse = mean_squared_error(Y_test, Y_pred)\n",
    "r2 = r2_score(Y_test, Y_pred)\n",
    "\n",
    "print(f\"Mean Absolute Error (MAE): {mae}\")\n",
    "print(f\"Mean Squared Error (MSE): {mse}\")\n",
    "print(f\"R-squared (R²): {r2}\")"
   ]
  },
  {
   "cell_type": "code",
   "execution_count": 52,
   "metadata": {
    "colab": {
     "base_uri": "https://localhost:8080/",
     "height": 564
    },
    "id": "MoeU46GKqXBi",
    "outputId": "0e56bc4b-de97-4d37-af4e-3d856fc2bcb4"
   },
   "outputs": [
    {
     "data": {
      "image/png": "[encoded data removed]",
      "text/plain": [
       "<Figure size 1000x600 with 1 Axes>"
      ]
     },
     "metadata": {},
     "output_type": "display_data"
    }
   ],
   "source": [
    "plt.figure(figsize=(10, 6))\n",
    "plt.scatter(Y_test, Y_pred, color='blue', label='Previsões')\n",
    "plt.plot([min(Y_test), max(Y_test)], [min(Y_test), max(Y_test)], color='red', linestyle='--', label='Reta ideal')\n",
    "plt.xlabel('Consumo de energia Real')\n",
    "plt.ylabel('Consumo de energia Previsto')\n",
    "plt.title('Consumo previsto vs Consumo real de Energia - Decision Tree')\n",
    "plt.legend()\n",
    "plt.show()"
   ]
  },
  {
   "cell_type": "markdown",
   "metadata": {
    "id": "8vDz8cedtcII"
   },
   "source": [
    "### Random Forest"
   ]
  },
  {
   "cell_type": "code",
   "execution_count": null,
   "metadata": {
    "colab": {
     "base_uri": "https://localhost:8080/",
     "height": 304
    },
    "id": "BPbjddjitiOf",
    "outputId": "7214d06c-e904-4a50-e293-d06bf1f747f3"
   },
   "outputs": [],
   "source": [
    "model = RandomForestRegressor(random_state=42)\n",
    "model.fit(X_train, Y_train)"
   ]
  },
  {
   "cell_type": "code",
   "execution_count": null,
   "metadata": {
    "id": "OE6szYQat36N"
   },
   "outputs": [],
   "source": [
    "Y_pred = model.predict(X_test)\n",
    "\n",
    "mae = mean_absolute_error(Y_test, Y_pred)\n",
    "mse = mean_squared_error(Y_test, Y_pred)\n",
    "r2 = r2_score(Y_test, Y_pred)\n",
    "\n",
    "print(f\"Mean Absolute Error (MAE): {mae}\")\n",
    "print(f\"Mean Squared Error (MSE): {mse}\")\n",
    "print(f\"R-squared (R²): {r2}\")"
   ]
  },
  {
   "cell_type": "code",
   "execution_count": null,
   "metadata": {
    "id": "Qfjrh4jbt36O"
   },
   "outputs": [],
   "source": [
    "plt.figure(figsize=(10, 6))\n",
    "plt.scatter(Y_test, Y_pred, color='blue', label='Previsões')\n",
    "plt.plot([min(Y_test), max(Y_test)], [min(Y_test), max(Y_test)], color='red', linestyle='--', label='Reta ideal')\n",
    "plt.xlabel('Consumo de energia Real')\n",
    "plt.ylabel('Consumo de energia Previsto')\n",
    "plt.title('Consumo previsto vs Consumo real de Energia - Random Forest')\n",
    "plt.legend()\n",
    "plt.show()"
   ]
  },
  {
   "cell_type": "markdown",
   "metadata": {
    "id": "pKOJ3lHLA5L1"
   },
   "source": [
    "### Artificial Neural Network"
   ]
  },
  {
   "cell_type": "code",
   "execution_count": null,
   "metadata": {
    "colab": {
     "base_uri": "https://localhost:8080/",
     "height": 80
    },
    "id": "aC7re9htBETH",
    "outputId": "3576a914-7b6f-4dbd-8646-0d6e992dfa70"
   },
   "outputs": [],
   "source": [
    "mlp = MLPRegressor(hidden_layer_sizes=(50,), activation='relu', solver='adam', max_iter=2000)\n",
    "mlp.fit(X_train, Y_train)"
   ]
  },
  {
   "cell_type": "code",
   "execution_count": null,
   "metadata": {
    "colab": {
     "base_uri": "https://localhost:8080/"
    },
    "id": "4J6COrJmBHA4",
    "outputId": "d5cc1e05-15d9-4da5-8cca-b19b89788688"
   },
   "outputs": [],
   "source": [
    "Y_pred = mlp.predict(X_test)\n",
    "\n",
    "mae = mean_absolute_error(Y_test, Y_pred)\n",
    "mse = mean_squared_error(Y_test, Y_pred)\n",
    "r2 = r2_score(Y_test, Y_pred)\n",
    "\n",
    "print(f\"Mean Absolute Error (MAE): {mae}\")\n",
    "print(f\"Mean Squared Error (MSE): {mse}\")\n",
    "print(f\"R-squared (R²): {r2}\")"
   ]
  },
  {
   "cell_type": "code",
   "execution_count": null,
   "metadata": {
    "colab": {
     "base_uri": "https://localhost:8080/",
     "height": 564
    },
    "id": "mo43VaOvHv7s",
    "outputId": "580d8ca1-066f-4823-e2e0-ec2757db41e1"
   },
   "outputs": [],
   "source": [
    "plt.figure(figsize=(10, 6))\n",
    "plt.scatter(Y_test, Y_pred, color='blue', label='Previsões')\n",
    "plt.plot([min(Y_test), max(Y_test)], [min(Y_test), max(Y_test)], color='red', linestyle='--', label='Reta ideal')\n",
    "plt.xlabel('Consumo de energia Real')\n",
    "plt.ylabel('Consumo de energia Previsto')\n",
    "plt.title('Consumo previsto vs Consumo real de Energia - ANN')\n",
    "plt.legend()\n",
    "plt.show()"
   ]
  },
  {
   "cell_type": "markdown",
   "metadata": {
    "id": "ggrUlcrLH5UL"
   },
   "source": [
    "### SGD"
   ]
  },
  {
   "cell_type": "code",
   "execution_count": null,
   "metadata": {
    "colab": {
     "base_uri": "https://localhost:8080/",
     "height": 80
    },
    "id": "mT8hAPDhH3yr",
    "outputId": "ea8a55dd-4e3a-4d67-caa4-cbb159012ab6"
   },
   "outputs": [],
   "source": [
    "reg = SGDRegressor(random_state=42)\n",
    "reg.fit(X_train, Y_train)"
   ]
  },
  {
   "cell_type": "code",
   "execution_count": null,
   "metadata": {
    "colab": {
     "base_uri": "https://localhost:8080/"
    },
    "id": "0dK-a2mzI0LW",
    "outputId": "84b17981-f53a-4a3d-8648-8fed28fc3e3d"
   },
   "outputs": [],
   "source": [
    "Y_pred = reg.predict(X_test)\n",
    "\n",
    "mae = mean_absolute_error(Y_test, Y_pred)\n",
    "mse = mean_squared_error(Y_test, Y_pred)\n",
    "r2 = r2_score(Y_test, Y_pred)\n",
    "\n",
    "print(f\"Mean Absolute Error (MAE): {mae}\")\n",
    "print(f\"Mean Squared Error (MSE): {mse}\")\n",
    "print(f\"R-squared (R²): {r2}\")"
   ]
  },
  {
   "cell_type": "code",
   "execution_count": null,
   "metadata": {
    "colab": {
     "base_uri": "https://localhost:8080/",
     "height": 564
    },
    "id": "JeHRzkbEI3BV",
    "outputId": "d6e3a359-5fff-4943-ca18-d6ca0576289a"
   },
   "outputs": [],
   "source": [
    "plt.figure(figsize=(10, 6))\n",
    "plt.scatter(Y_test, Y_pred, color='blue', label='Previsões')\n",
    "plt.plot([min(Y_test), max(Y_test)], [min(Y_test), max(Y_test)], color='red', linestyle='--', label='Reta ideal')\n",
    "plt.xlabel('Consumo de energia Real')\n",
    "plt.ylabel('Consumo de energia Previsto')\n",
    "plt.title('Consumo previsto vs Consumo real de Energia - ANN')\n",
    "plt.legend()\n",
    "plt.show()"
   ]
  },
  {
   "cell_type": "markdown",
   "metadata": {},
   "source": [
    "## Conclusões\n",
    "\n"
   ]
  },
  {
   "cell_type": "markdown",
   "metadata": {},
   "source": [
    "Observando a base de dados analisada, é possível observar que os dados de temperatura e outras condições climáticas geralmente seguem uma distribuição normal, sem a presença de outliers extremos. No caso dos dados de energia, não possuímos informações tão bem comportadas: existem muitos dados zerados devido a possíveis dias sem energia, e muitos dados com picos energéticos altos em relação à maioria dos valores, mas que não podem ser categorizados como outlier para esta pesquisa.\n",
    "\n",
    "A partir dos resultados obtidos, podemos tirar uma série de informações a respeito do nosso projeto e de nossa modelagem.\n",
    "No geral, todos os modelos foram capazes de predizer relativamente bem o consumo energético residencial a partir de dados climatológicos, sendo que todos os R² ficaram acima de 0.9, indicando uma boa qualidade de predição nos modelos.\n",
    "No entanto, dependendo do modelo utilizado, o tempo de execução e o tamanho dos erros quadráticos podem ser pontos de atenção\n",
    "\n",
    "Em relação ao tempo de execução, destaca-se negativamente o Random Forest, que, apesar de um baixo erro médio, demorou cerca de 5 minutos para execução. em uma máquina de 16GB de RAM e processador de 8 cores. De forma diferente, o modelo SGD foi o mais tempo-eficiente, tendo um resultado comparável ao modelo de Rede Neural, mas podendo ser executado num tempo muito mais reduzido.\n",
    "\n",
    "Em suma, para o seguimento do projeto, será utilizado o algoritmo SGD, que funciona muito bem para datasets grandes (mais de 1M de entradas)"
   ]
  }
 ],
 "metadata": {
  "accelerator": "GPU",
  "colab": {
   "gpuType": "T4",
   "provenance": []
  },
  "kernelspec": {
   "display_name": ".venv",
   "language": "python",
   "name": "python3"
  },
  "language_info": {
   "codemirror_mode": {
    "name": "ipython",
    "version": 3
   },
   "file_extension": ".py",
   "mimetype": "text/x-python",
   "name": "python",
   "nbconvert_exporter": "python",
   "pygments_lexer": "ipython3",
   "version": "3.12.7"
  }
 },
 "nbformat": 4,
 "nbformat_minor": 0
}
